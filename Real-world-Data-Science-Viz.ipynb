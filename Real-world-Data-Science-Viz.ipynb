{
 "cells": [
  {
   "cell_type": "code",
   "execution_count": 58,
   "metadata": {
    "collapsed": false
   },
   "outputs": [
    {
     "name": "stdout",
     "output_type": "stream",
     "text": [
      "[nltk_data] Downloading package stopwords to /root/nltk_data...\n",
      "[nltk_data]   Package stopwords is already up-to-date!\n"
     ]
    },
    {
     "data": {
      "text/html": [
       "<script type=\"text/javascript\">window.PlotlyConfig = {MathJaxConfig: 'local'};</script><script type=\"text/javascript\">if (window.MathJax) {MathJax.Hub.Config({SVG: {font: \"STIX-Web\"}});}</script><script>requirejs.config({paths: { 'plotly': ['https://cdn.plot.ly/plotly-latest.min']},});if(!window._Plotly) {require(['plotly'],function(plotly) {window._Plotly=plotly;});}</script>"
      ],
      "text/vnd.plotly.v1+html": [
       "<script type=\"text/javascript\">window.PlotlyConfig = {MathJaxConfig: 'local'};</script><script type=\"text/javascript\">if (window.MathJax) {MathJax.Hub.Config({SVG: {font: \"STIX-Web\"}});}</script><script>requirejs.config({paths: { 'plotly': ['https://cdn.plot.ly/plotly-latest.min']},});if(!window._Plotly) {require(['plotly'],function(plotly) {window._Plotly=plotly;});}</script>"
      ]
     },
     "metadata": {},
     "output_type": "display_data"
    }
   ],
   "source": [
    "# Importing required Libraries\n",
    "\n",
    "import os\n",
    "import re\n",
    "import nltk\n",
    "nltk.download('stopwords')\n",
    "import plotly\n",
    "import pickle\n",
    "import time\n",
    "import itertools\n",
    "import pandas as pd\n",
    "import numpy as np\n",
    "import seaborn as sns\n",
    "import plotly.offline as py\n",
    "import plotly.figure_factory as ff\n",
    "import plotly.graph_objs as go\n",
    "py.init_notebook_mode(connected=True)\n",
    "from sklearn.linear_model import Lasso\n",
    "from matplotlib import pyplot as plt\n",
    "%matplotlib inline\n",
    "os.environ['KMP_DUPLICATE_LIB_OK']='True'\n",
    "from sklearn import metrics\n",
    "from nltk.corpus import stopwords\n",
    "from nltk.stem.porter import PorterStemmer\n",
    "from wordcloud import WordCloud, STOPWORDS\n",
    "from sklearn import svm\n",
    "from xgboost import XGBRegressor\n",
    "from sklearn.linear_model import LinearRegression\n",
    "from sklearn.feature_extraction.text import TfidfVectorizer\n",
    "from sklearn.ensemble import RandomForestRegressor\n",
    "from sklearn.model_selection import train_test_split\n",
    "from sklearn.neighbors import KNeighborsClassifier\n",
    "from sklearn.metrics import accuracy_score, confusion_matrix\n",
    "from sklearn import preprocessing\n",
    "from sklearn.decomposition import PCA\n",
    "from sklearn.neighbors import KNeighborsRegressor\n",
    "from sklearn.model_selection import GridSearchCV, train_test_split\n",
    "\n",
    "import warnings\n",
    "warnings.filterwarnings('ignore')\n"
   ]
  },
  {
   "cell_type": "code",
   "execution_count": 19,
   "metadata": {
    "collapsed": false
   },
   "outputs": [
    {
     "data": {
      "text/html": [
       "<div>\n",
       "<style scoped>\n",
       "    .dataframe tbody tr th:only-of-type {\n",
       "        vertical-align: middle;\n",
       "    }\n",
       "\n",
       "    .dataframe tbody tr th {\n",
       "        vertical-align: top;\n",
       "    }\n",
       "\n",
       "    .dataframe thead th {\n",
       "        text-align: right;\n",
       "    }\n",
       "</style>\n",
       "<table border=\"1\" class=\"dataframe\">\n",
       "  <thead>\n",
       "    <tr style=\"text-align: right;\">\n",
       "      <th></th>\n",
       "      <th>country</th>\n",
       "      <th>description</th>\n",
       "      <th>designation</th>\n",
       "      <th>points</th>\n",
       "      <th>price</th>\n",
       "      <th>province</th>\n",
       "      <th>region_1</th>\n",
       "      <th>region_2</th>\n",
       "      <th>taster_name</th>\n",
       "      <th>taster_twitter_handle</th>\n",
       "      <th>title</th>\n",
       "      <th>variety</th>\n",
       "      <th>winery</th>\n",
       "    </tr>\n",
       "  </thead>\n",
       "  <tbody>\n",
       "    <tr>\n",
       "      <th>0</th>\n",
       "      <td>Italy</td>\n",
       "      <td>Aromas include tropical fruit, broom, brimston...</td>\n",
       "      <td>Vulkà Bianco</td>\n",
       "      <td>87</td>\n",
       "      <td>NaN</td>\n",
       "      <td>Sicily &amp; Sardinia</td>\n",
       "      <td>Etna</td>\n",
       "      <td>NaN</td>\n",
       "      <td>Kerin O’Keefe</td>\n",
       "      <td>@kerinokeefe</td>\n",
       "      <td>Nicosia 2013 Vulkà Bianco  (Etna)</td>\n",
       "      <td>White Blend</td>\n",
       "      <td>Nicosia</td>\n",
       "    </tr>\n",
       "    <tr>\n",
       "      <th>1</th>\n",
       "      <td>Portugal</td>\n",
       "      <td>This is ripe and fruity, a wine that is smooth...</td>\n",
       "      <td>Avidagos</td>\n",
       "      <td>87</td>\n",
       "      <td>15.0</td>\n",
       "      <td>Douro</td>\n",
       "      <td>NaN</td>\n",
       "      <td>NaN</td>\n",
       "      <td>Roger Voss</td>\n",
       "      <td>@vossroger</td>\n",
       "      <td>Quinta dos Avidagos 2011 Avidagos Red (Douro)</td>\n",
       "      <td>Portuguese Red</td>\n",
       "      <td>Quinta dos Avidagos</td>\n",
       "    </tr>\n",
       "    <tr>\n",
       "      <th>2</th>\n",
       "      <td>US</td>\n",
       "      <td>Tart and snappy, the flavors of lime flesh and...</td>\n",
       "      <td>NaN</td>\n",
       "      <td>87</td>\n",
       "      <td>14.0</td>\n",
       "      <td>Oregon</td>\n",
       "      <td>Willamette Valley</td>\n",
       "      <td>Willamette Valley</td>\n",
       "      <td>Paul Gregutt</td>\n",
       "      <td>@paulgwine</td>\n",
       "      <td>Rainstorm 2013 Pinot Gris (Willamette Valley)</td>\n",
       "      <td>Pinot Gris</td>\n",
       "      <td>Rainstorm</td>\n",
       "    </tr>\n",
       "    <tr>\n",
       "      <th>3</th>\n",
       "      <td>US</td>\n",
       "      <td>Pineapple rind, lemon pith and orange blossom ...</td>\n",
       "      <td>Reserve Late Harvest</td>\n",
       "      <td>87</td>\n",
       "      <td>13.0</td>\n",
       "      <td>Michigan</td>\n",
       "      <td>Lake Michigan Shore</td>\n",
       "      <td>NaN</td>\n",
       "      <td>Alexander Peartree</td>\n",
       "      <td>NaN</td>\n",
       "      <td>St. Julian 2013 Reserve Late Harvest Riesling ...</td>\n",
       "      <td>Riesling</td>\n",
       "      <td>St. Julian</td>\n",
       "    </tr>\n",
       "    <tr>\n",
       "      <th>4</th>\n",
       "      <td>US</td>\n",
       "      <td>Much like the regular bottling from 2012, this...</td>\n",
       "      <td>Vintner's Reserve Wild Child Block</td>\n",
       "      <td>87</td>\n",
       "      <td>65.0</td>\n",
       "      <td>Oregon</td>\n",
       "      <td>Willamette Valley</td>\n",
       "      <td>Willamette Valley</td>\n",
       "      <td>Paul Gregutt</td>\n",
       "      <td>@paulgwine</td>\n",
       "      <td>Sweet Cheeks 2012 Vintner's Reserve Wild Child...</td>\n",
       "      <td>Pinot Noir</td>\n",
       "      <td>Sweet Cheeks</td>\n",
       "    </tr>\n",
       "  </tbody>\n",
       "</table>\n",
       "</div>"
      ],
      "text/plain": [
       "    country                                        description  \\\n",
       "0     Italy  Aromas include tropical fruit, broom, brimston...   \n",
       "1  Portugal  This is ripe and fruity, a wine that is smooth...   \n",
       "2        US  Tart and snappy, the flavors of lime flesh and...   \n",
       "3        US  Pineapple rind, lemon pith and orange blossom ...   \n",
       "4        US  Much like the regular bottling from 2012, this...   \n",
       "\n",
       "                          designation  points  price           province  \\\n",
       "0                        Vulkà Bianco      87    NaN  Sicily & Sardinia   \n",
       "1                            Avidagos      87   15.0              Douro   \n",
       "2                                 NaN      87   14.0             Oregon   \n",
       "3                Reserve Late Harvest      87   13.0           Michigan   \n",
       "4  Vintner's Reserve Wild Child Block      87   65.0             Oregon   \n",
       "\n",
       "              region_1           region_2         taster_name  \\\n",
       "0                 Etna                NaN       Kerin O’Keefe   \n",
       "1                  NaN                NaN          Roger Voss   \n",
       "2    Willamette Valley  Willamette Valley        Paul Gregutt   \n",
       "3  Lake Michigan Shore                NaN  Alexander Peartree   \n",
       "4    Willamette Valley  Willamette Valley        Paul Gregutt   \n",
       "\n",
       "  taster_twitter_handle                                              title  \\\n",
       "0          @kerinokeefe                  Nicosia 2013 Vulkà Bianco  (Etna)   \n",
       "1            @vossroger      Quinta dos Avidagos 2011 Avidagos Red (Douro)   \n",
       "2           @paulgwine       Rainstorm 2013 Pinot Gris (Willamette Valley)   \n",
       "3                   NaN  St. Julian 2013 Reserve Late Harvest Riesling ...   \n",
       "4           @paulgwine   Sweet Cheeks 2012 Vintner's Reserve Wild Child...   \n",
       "\n",
       "          variety               winery  \n",
       "0     White Blend              Nicosia  \n",
       "1  Portuguese Red  Quinta dos Avidagos  \n",
       "2      Pinot Gris            Rainstorm  \n",
       "3        Riesling           St. Julian  \n",
       "4      Pinot Noir         Sweet Cheeks  "
      ]
     },
     "execution_count": 19,
     "metadata": {},
     "output_type": "execute_result"
    }
   ],
   "source": [
    "# Loading the dataset\n",
    "\n",
    "df_reviews = pd.read_csv(\"https://raw.githubusercontent.com/chirras/D3-Data/master/Data%20Files/winemag-data-130k-v2.csv\")\n",
    "df_reviews.drop('Unnamed: 0', axis=1, inplace=True)\n",
    "df_reviews.head()\n"
   ]
  },
  {
   "cell_type": "code",
   "execution_count": 20,
   "metadata": {
    "collapsed": false
   },
   "outputs": [
    {
     "name": "stdout",
     "output_type": "stream",
     "text": [
      "<class 'pandas.core.frame.DataFrame'>\n",
      "RangeIndex: 129971 entries, 0 to 129970\n",
      "Data columns (total 13 columns):\n",
      "country                  129908 non-null object\n",
      "description              129971 non-null object\n",
      "designation              92506 non-null object\n",
      "points                   129971 non-null int64\n",
      "price                    120975 non-null float64\n",
      "province                 129908 non-null object\n",
      "region_1                 108724 non-null object\n",
      "region_2                 50511 non-null object\n",
      "taster_name              103727 non-null object\n",
      "taster_twitter_handle    98758 non-null object\n",
      "title                    129971 non-null object\n",
      "variety                  129970 non-null object\n",
      "winery                   129971 non-null object\n",
      "dtypes: float64(1), int64(1), object(11)\n",
      "memory usage: 12.9+ MB\n"
     ]
    }
   ],
   "source": [
    "df_reviews.info()"
   ]
  },
  {
   "cell_type": "code",
   "execution_count": 21,
   "metadata": {
    "collapsed": false
   },
   "outputs": [
    {
     "data": {
      "text/plain": [
       "(129971, 13)"
      ]
     },
     "execution_count": 21,
     "metadata": {},
     "output_type": "execute_result"
    }
   ],
   "source": [
    "# Printing shape of the dataframe\n",
    "\n",
    "df_reviews.shape\n"
   ]
  },
  {
   "cell_type": "code",
   "execution_count": 22,
   "metadata": {
    "collapsed": false
   },
   "outputs": [
    {
     "data": {
      "text/plain": [
       "array(['Italy', 'Portugal', 'US', 'Spain', 'France', 'Germany',\n",
       "       'Argentina', 'Chile', 'Australia', 'Austria', 'South Africa',\n",
       "       'New Zealand', 'Israel', 'Hungary', 'Greece', 'Romania', 'Mexico',\n",
       "       'Canada', nan, 'Turkey', 'Czech Republic', 'Slovenia', 'Luxembourg',\n",
       "       'Croatia', 'Georgia', 'Uruguay', 'England', 'Lebanon', 'Serbia',\n",
       "       'Brazil', 'Moldova', 'Morocco', 'Peru', 'India', 'Bulgaria',\n",
       "       'Cyprus', 'Armenia', 'Switzerland', 'Bosnia and Herzegovina',\n",
       "       'Ukraine', 'Slovakia', 'Macedonia', 'China', 'Egypt'], dtype=object)"
      ]
     },
     "execution_count": 22,
     "metadata": {},
     "output_type": "execute_result"
    }
   ],
   "source": [
    "# Getting the unique values of country\n",
    "\n",
    "df_reviews.country.unique()"
   ]
  },
  {
   "cell_type": "code",
   "execution_count": 23,
   "metadata": {
    "collapsed": false
   },
   "outputs": [
    {
     "data": {
      "text/plain": [
       "<matplotlib.axes._subplots.AxesSubplot at 0x7f9d2b9c0390>"
      ]
     },
     "execution_count": 23,
     "metadata": {},
     "output_type": "execute_result"
    },
    {
     "data": {
      "image/png": "[encoded data removed]",
      "text/plain": [
       "<Figure size 1440x1008 with 2 Axes>"
      ]
     },
     "metadata": {},
     "output_type": "display_data"
    }
   ],
   "source": [
    "# Plotting the distribution of features using violin plots\n",
    "\n",
    "plt.figure(figsize=(20,14))\n",
    "plt.subplot(211)\n",
    "sns.violinplot(df_reviews.points)\n",
    "\n",
    "plt.subplot(212)\n",
    "sns.violinplot(df_reviews.price)"
   ]
  },
  {
   "cell_type": "code",
   "execution_count": 24,
   "metadata": {
    "collapsed": false
   },
   "outputs": [
    {
     "data": {
      "text/plain": [
       "<matplotlib.axes._subplots.AxesSubplot at 0x7f9d2b97cda0>"
      ]
     },
     "execution_count": 24,
     "metadata": {},
     "output_type": "execute_result"
    },
    {
     "data": {
      "image/png": "[encoded data removed]",
      "text/plain": [
       "<Figure size 1440x864 with 2 Axes>"
      ]
     },
     "metadata": {},
     "output_type": "display_data"
    }
   ],
   "source": [
    "corrValues = df_reviews[['points','price']].corr()\n",
    "\n",
    "# plot the heatmap\n",
    "plt.figure(figsize=(20,12))\n",
    "sns.heatmap(corrValues, annot=True)"
   ]
  },
  {
   "cell_type": "code",
   "execution_count": 25,
   "metadata": {
    "collapsed": false
   },
   "outputs": [
    {
     "name": "stdout",
     "output_type": "stream",
     "text": [
      "Length of unique values in country: 44\n",
      "Length of unique values in description: 119955\n",
      "Length of unique values in designation: 37980\n",
      "Length of unique values in points: 21\n",
      "Length of unique values in price: 391\n",
      "Length of unique values in province: 426\n",
      "Length of unique values in region_1: 1230\n",
      "Length of unique values in region_2: 18\n",
      "Length of unique values in taster_name: 20\n",
      "Length of unique values in taster_twitter_handle: 16\n",
      "Length of unique values in title: 118840\n",
      "Length of unique values in variety: 708\n",
      "Length of unique values in winery: 16757\n"
     ]
    }
   ],
   "source": [
    "# Printing number of unique values in each column\n",
    "\n",
    "def printUniqueLen(df, column):\n",
    "    print(\"Length of unique values in \" + str(column) + \": \" + str(len(df[column].unique())))\n",
    "    \n",
    "for col in list(df_reviews.columns):\n",
    "    printUniqueLen(df_reviews, col)"
   ]
  },
  {
   "cell_type": "code",
   "execution_count": 26,
   "metadata": {
    "collapsed": false,
    "scrolled": true
   },
   "outputs": [
    {
     "data": {
      "text/plain": [
       "\"Aromas include tropical fruit, broom, brimstone and dried herb. The palate isn't overly expressive, offering unripened apple, citrus and dried sage alongside brisk acidity.\""
      ]
     },
     "execution_count": 26,
     "metadata": {},
     "output_type": "execute_result"
    }
   ],
   "source": [
    "df_reviews.description[0]"
   ]
  },
  {
   "cell_type": "code",
   "execution_count": 27,
   "metadata": {
    "collapsed": false
   },
   "outputs": [
    {
     "name": "stdout",
     "output_type": "stream",
     "text": [
      "CPU times: user 1min 20s, sys: 88 ms, total: 1min 20s\n",
      "Wall time: 1min 20s\n"
     ]
    }
   ],
   "source": [
    "%%time\n",
    "\n",
    "## Preprocessing the text data for feature 'description'\n",
    "\n",
    "# Using regex to filter the non alphabet characters\n",
    "stopWords =  stopwords.words('english')\n",
    "df_reviews.description = [re.sub('[^a-zA-Z]', ' ', text) for text in df_reviews.description]\n",
    "\n",
    "# Converting description to lowercase\n",
    "df_reviews.description = [text.lower() for text in df_reviews.description]\n",
    "# Spliting the description to words\n",
    "df_reviews.description = [text.split() for text in df_reviews.description]\n",
    "# Removing the stopwords\n",
    "df_reviews.description = [[word for word in text if word not in stopWords] for text in df_reviews.description]\n",
    "# Stemming the words and joining them to sentence \n",
    "pStem = PorterStemmer()\n",
    "df_reviews.description = [\" \".join([pStem.stem(word) for word in text]) for text in df_reviews.description]\n"
   ]
  },
  {
   "cell_type": "code",
   "execution_count": 28,
   "metadata": {
    "collapsed": false,
    "scrolled": true
   },
   "outputs": [
    {
     "name": "stdout",
     "output_type": "stream",
     "text": [
      "CPU times: user 5.49 s, sys: 5.58 s, total: 11.1 s\n",
      "Wall time: 11.1 s\n"
     ]
    }
   ],
   "source": [
    "%%time\n",
    "\n",
    "## One-Hot encoding for categorical Features \n",
    "\n",
    "# country\n",
    "df_reviews[list(pd.get_dummies(df_reviews.country).columns)] = pd.get_dummies(df_reviews.country)\n",
    "\n",
    "# taster_name\n",
    "df_reviews[list(pd.get_dummies(df_reviews.taster_name).columns)] = pd.get_dummies(df_reviews.taster_name)\n",
    "\n",
    "# taster_twitter_handle\n",
    "df_reviews[list(pd.get_dummies(df_reviews.taster_twitter_handle).columns)] = pd.get_dummies(df_reviews.taster_twitter_handle)\n",
    "\n",
    "# province\n",
    "df_reviews[list(pd.get_dummies(df_reviews.province).columns)] = pd.get_dummies(df_reviews.province)\n",
    "\n",
    "# region_1\n",
    "df_reviews[list(pd.get_dummies(df_reviews.region_1).columns)] = pd.get_dummies(df_reviews.region_1)\n",
    "\n",
    "# region_2\n",
    "df_reviews[list(pd.get_dummies(df_reviews.region_2).columns)] = pd.get_dummies(df_reviews.region_2)\n",
    "\n",
    "# variety\n",
    "df_reviews[list(pd.get_dummies(df_reviews.variety).columns)] = pd.get_dummies(df_reviews.variety)\n",
    "\n",
    "\n",
    "## Dropping the columns\n",
    "df_reviews.drop(['country','taster_name','taster_twitter_handle','province','region_1','region_2', 'variety'], axis=1, inplace=True)\n"
   ]
  },
  {
   "cell_type": "code",
   "execution_count": 29,
   "metadata": {
    "collapsed": false,
    "scrolled": true
   },
   "outputs": [],
   "source": [
    "\n",
    "## Categorical fields with more than 10,000 unique categories\n",
    "# Capturing the number of characters for fields designation, title, winery\n",
    "\n",
    "df_reviews['designationLen'] = [len(str(text)) for text in df_reviews['designation']]\n",
    "df_reviews['titleLen'] = [len(str(text)) for text in df_reviews['title']]\n",
    "df_reviews['wineryLen'] = [len(str(text)) for text in df_reviews['winery']]\n",
    "\n",
    "\n",
    "## Dropping the columns\n",
    "df_reviews.drop(['designation','title','winery'], axis=1, inplace=True)\n"
   ]
  },
  {
   "cell_type": "code",
   "execution_count": 30,
   "metadata": {
    "collapsed": true
   },
   "outputs": [],
   "source": [
    "## Dividing the train and test datasets\n",
    "# Split data randomly into train and test datasets with a ratio of 80:20.\n",
    "\n",
    "train, test = train_test_split(df_reviews, test_size=0.2, random_state=34)\n"
   ]
  },
  {
   "cell_type": "code",
   "execution_count": 31,
   "metadata": {
    "collapsed": false
   },
   "outputs": [
    {
     "data": {
      "text/plain": [
       "((103976, 2364), (25995, 2364))"
      ]
     },
     "execution_count": 31,
     "metadata": {},
     "output_type": "execute_result"
    }
   ],
   "source": [
    "# Printing the shape of train and test datasets\n",
    "\n",
    "train.shape, test.shape\n"
   ]
  },
  {
   "cell_type": "code",
   "execution_count": 32,
   "metadata": {
    "collapsed": false
   },
   "outputs": [
    {
     "data": {
      "text/plain": [
       "TfidfVectorizer(analyzer='word', binary=False, decode_error='strict',\n",
       "        dtype=<class 'numpy.int64'>, encoding='utf-8', input='content',\n",
       "        lowercase=True, max_df=0.85, max_features=1000, min_df=1,\n",
       "        ngram_range=(1, 1), norm='l2', preprocessor=None, smooth_idf=True,\n",
       "        stop_words=None, strip_accents=None, sublinear_tf=False,\n",
       "        token_pattern='(?u)\\\\b\\\\w\\\\w+\\\\b', tokenizer=None, use_idf=True,\n",
       "        vocabulary=None)"
      ]
     },
     "execution_count": 32,
     "metadata": {},
     "output_type": "execute_result"
    }
   ],
   "source": [
    "# Using tfidf vectorizer to extract vectors from text\n",
    "\n",
    "tfidfVec = TfidfVectorizer(max_features=1000, lowercase=True, analyzer='word', ngram_range=(1,1), max_df=0.85)\n",
    "tfidfVec.fit(df_reviews.description)\n"
   ]
  },
  {
   "cell_type": "code",
   "execution_count": 33,
   "metadata": {
    "collapsed": false
   },
   "outputs": [
    {
     "name": "stdout",
     "output_type": "stream",
     "text": [
      "CPU times: user 10.2 s, sys: 6.97 s, total: 17.2 s\n",
      "Wall time: 17.2 s\n"
     ]
    }
   ],
   "source": [
    "%%time\n",
    "\n",
    "# Using the fit tfidf vectorizer to transform 'description' into vectors for train data\n",
    "\n",
    "trainVect = tfidfVec.transform(train.description)\n",
    "train[pd.DataFrame(trainVect.toarray()).columns] = pd.DataFrame(trainVect.toarray())\n"
   ]
  },
  {
   "cell_type": "code",
   "execution_count": 34,
   "metadata": {
    "collapsed": false
   },
   "outputs": [
    {
     "data": {
      "text/plain": [
       "(103976, 3364)"
      ]
     },
     "execution_count": 34,
     "metadata": {},
     "output_type": "execute_result"
    }
   ],
   "source": [
    "# Printing the shape of the dataframe after vectorizing the description\n",
    "\n",
    "train.shape\n"
   ]
  },
  {
   "cell_type": "code",
   "execution_count": 35,
   "metadata": {
    "collapsed": true
   },
   "outputs": [],
   "source": [
    "# Dorpping the description column from train dataset\n",
    "\n",
    "train.drop(['description'], axis=1, inplace=True)\n"
   ]
  },
  {
   "cell_type": "code",
   "execution_count": 36,
   "metadata": {
    "collapsed": true
   },
   "outputs": [],
   "source": [
    "# Dividing the target and features for train dataset\n",
    "\n",
    "X_train, Y_train = train.drop(['points'], axis=1), train.points\n",
    "\n"
   ]
  },
  {
   "cell_type": "code",
   "execution_count": 37,
   "metadata": {
    "collapsed": false
   },
   "outputs": [
    {
     "data": {
      "text/plain": [
       "((103976, 3362), (103976,))"
      ]
     },
     "execution_count": 37,
     "metadata": {},
     "output_type": "execute_result"
    }
   ],
   "source": [
    "# Printing the shapes\n",
    "\n",
    "X_train.shape, Y_train.shape\n",
    "\n"
   ]
  },
  {
   "cell_type": "code",
   "execution_count": 38,
   "metadata": {
    "collapsed": true
   },
   "outputs": [],
   "source": [
    "# Normalizing the train data\n",
    "\n",
    "scaler = preprocessing.MinMaxScaler()\n",
    "\n",
    "X_train[['price','designationLen','titleLen','wineryLen']] = scaler.fit_transform(X_train[['price','designationLen','titleLen','wineryLen']].fillna(0))\n"
   ]
  },
  {
   "cell_type": "markdown",
   "metadata": {},
   "source": [
    "#### Model Selection\n",
    "\n",
    "    1. Linear Regression with Lasso Regularization\n",
    "    2. Random Forest\n",
    "    3. XGBoost\n",
    "    \n",
    "    "
   ]
  },
  {
   "cell_type": "code",
   "execution_count": 39,
   "metadata": {
    "collapsed": false
   },
   "outputs": [
    {
     "name": "stdout",
     "output_type": "stream",
     "text": [
      "CPU times: user 12.4 s, sys: 8.59 s, total: 21 s\n",
      "Wall time: 20 s\n"
     ]
    }
   ],
   "source": [
    "%%time\n",
    "\n",
    "# Linear Regression with Lasso regularization\n",
    "\n",
    "modelLasso = Lasso(alpha=0.3)\n",
    "modelLasso.fit(X_train.fillna(0), Y_train)\n"
   ]
  },
  {
   "cell_type": "code",
   "execution_count": 40,
   "metadata": {
    "collapsed": false
   },
   "outputs": [
    {
     "name": "stdout",
     "output_type": "stream",
     "text": [
      "CPU times: user 20min 55s, sys: 2.79 s, total: 20min 58s\n",
      "Wall time: 2min 45s\n"
     ]
    }
   ],
   "source": [
    "%%time\n",
    "\n",
    "# Random Forest\n",
    "\n",
    "modelRF = RandomForestRegressor(max_depth=5, n_estimators=100, n_jobs=-1)\n",
    "modelRF.fit(X_train.fillna(0), Y_train)\n"
   ]
  },
  {
   "cell_type": "code",
   "execution_count": 41,
   "metadata": {
    "collapsed": false
   },
   "outputs": [
    {
     "name": "stdout",
     "output_type": "stream",
     "text": [
      "CPU times: user 33min 49s, sys: 9.63 s, total: 33min 58s\n",
      "Wall time: 4min 31s\n"
     ]
    }
   ],
   "source": [
    "%%time \n",
    "\n",
    "# XGBoost\n",
    "\n",
    "modelXG = XGBRegressor(max_depth=5, learning_rate=0.05, n_estimators=100, n_jobs=-1)\n",
    "modelXG.fit(X_train, Y_train)\n"
   ]
  },
  {
   "cell_type": "code",
   "execution_count": 42,
   "metadata": {
    "collapsed": true
   },
   "outputs": [],
   "source": [
    "# Using the fit tfidf vectorizer to transform 'description' into vectors for test data\n",
    "\n",
    "testVect = tfidfVec.transform(test.description)\n",
    "test[pd.DataFrame(testVect.toarray()).columns] = pd.DataFrame(testVect.toarray())\n"
   ]
  },
  {
   "cell_type": "code",
   "execution_count": 43,
   "metadata": {
    "collapsed": false,
    "scrolled": true
   },
   "outputs": [
    {
     "data": {
      "text/plain": [
       "(25995, 3364)"
      ]
     },
     "execution_count": 43,
     "metadata": {},
     "output_type": "execute_result"
    }
   ],
   "source": [
    "# Printing the shape of the dataframe after vectorizing the description\n",
    "\n",
    "test.shape\n"
   ]
  },
  {
   "cell_type": "code",
   "execution_count": 44,
   "metadata": {
    "collapsed": true
   },
   "outputs": [],
   "source": [
    "# Dorpping the description column from train dataset\n",
    "\n",
    "test.drop(['description'], axis=1, inplace=True)\n"
   ]
  },
  {
   "cell_type": "code",
   "execution_count": 45,
   "metadata": {
    "collapsed": true
   },
   "outputs": [],
   "source": [
    "# Dividing the target and features for test dataset\n",
    "\n",
    "X_test, Y_test = test.drop(['points'], axis=1), test.points\n"
   ]
  },
  {
   "cell_type": "code",
   "execution_count": 46,
   "metadata": {
    "collapsed": true
   },
   "outputs": [],
   "source": [
    "# Normalizing the test data\n",
    "\n",
    "X_test[['price','designationLen','titleLen','wineryLen']] = scaler.transform(X_test[['price','designationLen','titleLen','wineryLen']].fillna(0))\n"
   ]
  },
  {
   "cell_type": "code",
   "execution_count": 47,
   "metadata": {
    "collapsed": true
   },
   "outputs": [],
   "source": [
    "# Prediction on test data using Linear Regression\n",
    "\n",
    "y_pred_lr = modelLasso.predict(X_test.fillna(0))\n"
   ]
  },
  {
   "cell_type": "code",
   "execution_count": 48,
   "metadata": {
    "collapsed": false
   },
   "outputs": [
    {
     "name": "stdout",
     "output_type": "stream",
     "text": [
      "RMSE of Linear Regression Model: 3.04378716073\n"
     ]
    }
   ],
   "source": [
    "## Evaluation Metrics \n",
    "\n",
    "# RMSE\n",
    "print(\"RMSE of Linear Regression Model: \" + str(np.sqrt(metrics.mean_squared_error(Y_test, y_pred_lr))))\n"
   ]
  },
  {
   "cell_type": "code",
   "execution_count": 49,
   "metadata": {
    "collapsed": false
   },
   "outputs": [],
   "source": [
    "# Prediction on test data using RF\n",
    "\n",
    "y_pred_rf = modelRF.predict(X_test.fillna(0))\n"
   ]
  },
  {
   "cell_type": "code",
   "execution_count": 50,
   "metadata": {
    "collapsed": false
   },
   "outputs": [
    {
     "name": "stdout",
     "output_type": "stream",
     "text": [
      "Explained Variance of Random Forest: 0.374218583623\n",
      "RMSE of Random Forest: 2.40787356219\n"
     ]
    }
   ],
   "source": [
    "## Evaluation Metrics \n",
    "\n",
    "# Variance Score\n",
    "print(\"Explained Variance of Random Forest: \" + str(metrics.explained_variance_score(Y_test, y_pred_rf)))\n",
    "\n",
    "# RMSE\n",
    "print(\"RMSE of Random Forest: \" + str(np.sqrt(metrics.mean_squared_error(Y_test, y_pred_rf))))\n"
   ]
  },
  {
   "cell_type": "code",
   "execution_count": 51,
   "metadata": {
    "collapsed": false
   },
   "outputs": [],
   "source": [
    "# Prediction on test data using XGBoost\n",
    "\n",
    "y_pred_xg = modelXG.predict(X_test)\n"
   ]
  },
  {
   "cell_type": "code",
   "execution_count": 52,
   "metadata": {
    "collapsed": false
   },
   "outputs": [
    {
     "name": "stdout",
     "output_type": "stream",
     "text": [
      "Explained Variance of XGBoost: 0.434192738671\n",
      "RMSE of XGBoost: 2.3512862328\n"
     ]
    }
   ],
   "source": [
    "## Evaluation Metrics \n",
    "\n",
    "# Variance Score\n",
    "print(\"Explained Variance of XGBoost: \" + str(metrics.explained_variance_score(Y_test, y_pred_xg)))\n",
    "\n",
    "# RMSE\n",
    "print(\"RMSE of XGBoost: \" + str(np.sqrt(metrics.mean_squared_error(Y_test, y_pred_xg))))\n"
   ]
  },
  {
   "cell_type": "code",
   "execution_count": 53,
   "metadata": {
    "collapsed": false
   },
   "outputs": [
    {
     "data": {
      "text/plain": [
       "<matplotlib.axes._subplots.AxesSubplot at 0x7f9d22a5e668>"
      ]
     },
     "execution_count": 53,
     "metadata": {},
     "output_type": "execute_result"
    },
    {
     "data": {
      "text/plain": [
       "<Figure size 432x288 with 0 Axes>"
      ]
     },
     "metadata": {},
     "output_type": "display_data"
    },
    {
     "data": {
      "image/png": "[encoded data removed]",
      "text/plain": [
       "<Figure size 1080x7200 with 1 Axes>"
      ]
     },
     "metadata": {},
     "output_type": "display_data"
    }
   ],
   "source": [
    "# Plotting feature importance\n",
    "\n",
    "df_featImp = pd.DataFrame({'features': X_train.columns, 'importance': modelXG.feature_importances_})\n",
    "df_featImp = df_featImp.sort_values('importance').reset_index(drop=True).tail(300)\n",
    "\n",
    "plt.figure()\n",
    "df_featImp.plot(kind='barh', x='features', y='importance', legend=False, figsize=(15,100))\n",
    "\n"
   ]
  },
  {
   "cell_type": "code",
   "execution_count": 54,
   "metadata": {
    "collapsed": true
   },
   "outputs": [],
   "source": [
    "## Filtering the Features based on Feature Importance\n",
    "# As most of the features doesn't play any role in prediction, top 300 features are taken into consideration.\n",
    "\n",
    "impFeat = list(df_featImp.sort_values(['importance'], ascending=False).features)\n"
   ]
  },
  {
   "cell_type": "code",
   "execution_count": 61,
   "metadata": {
    "collapsed": false
   },
   "outputs": [
    {
     "name": "stdout",
     "output_type": "stream",
     "text": [
      "CPU times: user 38.4 s, sys: 1.77 s, total: 40.2 s\n",
      "Wall time: 12min 11s\n"
     ]
    }
   ],
   "source": [
    "%%time\n",
    "\n",
    "# Tuning Hyperparameter for Lasso\n",
    "paramsL = {'alpha': [1, 0.1, 0.01, 0.001, 0.0001, 0]}\n",
    "\n",
    "# Defining the model\n",
    "LassoGS = Lasso()\n",
    "\n",
    "# Defining the grid search \n",
    "gridL = GridSearchCV(LassoGS, paramsL, cv=10, n_jobs=-1)\n",
    "gridL.fit(X_train[impFeat].fillna(0), Y_train)\n"
   ]
  },
  {
   "cell_type": "code",
   "execution_count": 63,
   "metadata": {
    "collapsed": false
   },
   "outputs": [
    {
     "name": "stdout",
     "output_type": "stream",
     "text": [
      "CPU times: user 9min 51s, sys: 2.25 s, total: 9min 53s\n",
      "Wall time: 53min 54s\n"
     ]
    }
   ],
   "source": [
    "%%time\n",
    "\n",
    "# Tuning Hyperparameter for Lasso\n",
    "paramsRF = {'max_depth': [3,4,5], 'n_estimators': [100, 200, 300]}\n",
    "\n",
    "# Defining the model\n",
    "modelRF = RandomForestRegressor(n_jobs=-1)\n",
    "\n",
    "# Defining the grid search \n",
    "gridRF = GridSearchCV(modelRF, paramsRF, cv=10, n_jobs=-1)\n",
    "gridRF.fit(X_train[impFeat].fillna(0), Y_train)\n"
   ]
  },
  {
   "cell_type": "code",
   "execution_count": 55,
   "metadata": {
    "collapsed": false
   },
   "outputs": [
    {
     "data": {
      "text/plain": [
       "GridSearchCV(cv=10, error_score='raise',\n",
       "       estimator=XGBRegressor(base_score=0.5, booster='gbtree', colsample_bylevel=1,\n",
       "       colsample_bytree=1, gamma=0, learning_rate=0.1, max_delta_step=0,\n",
       "       max_depth=3, min_child_weight=1, missing=None, n_estimators=100,\n",
       "       n_jobs=1, nthread=-1, objective='reg:linear', random_state=0,\n",
       "       reg_alpha=0, reg_lambda=1, scale_pos_weight=1, seed=None,\n",
       "       silent=True, subsample=1),\n",
       "       fit_params=None, iid=True, n_jobs=-1,\n",
       "       param_grid={'max_depth': [3, 4, 5], 'learning_rate': [0.03, 0.05, 0.1, 0.5]},\n",
       "       pre_dispatch='2*n_jobs', refit=True, return_train_score=True,\n",
       "       scoring=None, verbose=0)"
      ]
     },
     "execution_count": 55,
     "metadata": {},
     "output_type": "execute_result"
    }
   ],
   "source": [
    "%%time\n",
    "\n",
    "## Tuning Hyperparameters XGBoost\n",
    "\n",
    "# Defining the parameters\n",
    "params = {'max_depth': [3,4,5], 'learning_rate': [0.03, 0.05, 0.1, 0.5]}\n",
    "\n",
    "# Defining the model\n",
    "xgbGS = XGBRegressor(nthread=-1) \n",
    "\n",
    "# Defining the grid search \n",
    "grid = GridSearchCV(xgbGS, params, cv=10, n_jobs=-1)\n",
    "grid.fit(X_train[impFeat], Y_train)\n"
   ]
  },
  {
   "cell_type": "code",
   "execution_count": 65,
   "metadata": {
    "collapsed": true
   },
   "outputs": [],
   "source": [
    "# cv_validation_scores for XGBoost\n",
    "\n",
    "grid_cv_scores_lasso = [list(result.cv_validation_scores) for result in gridL.grid_scores_]\n",
    "grid_cv_scores_RF = [list(result.cv_validation_scores) for result in gridRF.grid_scores_]\n",
    "grid_cv_scores_XG = [list(result.cv_validation_scores) for result in grid.grid_scores_]\n"
   ]
  },
  {
   "cell_type": "code",
   "execution_count": 77,
   "metadata": {
    "collapsed": false,
    "scrolled": true
   },
   "outputs": [],
   "source": [
    "# Parameter visualization for Lasso\n",
    "\n",
    "lassoR2Score = [y for x in grid_cv_scores_lasso for y in x]\n",
    "temp = [list(itertools.repeat(i, 10)) for i in [1, 0.1, 0.01, 0.001, 0.0001, 0]]\n",
    "alpha = [y for x in temp for y in x]\n",
    "\n",
    "df_lasso = pd.DataFrame({'lassoR2Score': lassoR2Score, 'alpha': alpha})\n"
   ]
  },
  {
   "cell_type": "code",
   "execution_count": 78,
   "metadata": {
    "collapsed": false
   },
   "outputs": [
    {
     "data": {
      "application/vnd.plotly.v1+json": {
       "config": {
        "linkText": "Export to plot.ly",
        "plotlyServerURL": "https://plot.ly",
        "showLink": false
       },
       "data": [
        {
         "marker": {
          "color": [
           1,
           1,
           1,
           1,
           1,
           1,
           1,
           1,
           1,
           1,
           0.1,
           0.1,
           0.1,
           0.1,
           0.1,
           0.1,
           0.1,
           0.1,
           0.1,
           0.1,
           0.01,
           0.01,
           0.01,
           0.01,
           0.01,
           0.01,
           0.01,
           0.01,
           0.01,
           0.01,
           0.001,
           0.001,
           0.001,
           0.001,
           0.001,
           0.001,
           0.001,
           0.001,
           0.001,
           0.001,
           0.0001,
           0.0001,
           0.0001,
           0.0001,
           0.0001,
           0.0001,
           0.0001,
           0.0001,
           0.0001,
           0.0001,
           0,
           0,
           0,
           0,
           0,
           0,
           0,
           0,
           0,
           0
          ],
          "colorbar": {
           "title": {
            "text": "Value of Alpha"
           }
          },
          "showscale": true,
          "size": 10
         },
         "mode": "markers+lines",
         "type": "scatter",
         "uid": "86dccbdd-d420-49dd-b6ee-92d4e4b381e2",
         "x": [
          -0.0001356611701897048,
          -6.798585150713521e-05,
          -0.00011427062826396828,
          -5.925221635560974e-06,
          -1.8133050616597757e-11,
          -0.00017072918686666938,
          -6.596041394368868e-05,
          -1.805744434646428e-06,
          -4.24238837437585e-05,
          -1.125684322578202e-05,
          0.0232968997755173,
          0.023236324512133644,
          0.02260009304346211,
          0.02349483564473065,
          0.024064560967311133,
          0.02431624681476907,
          0.024763104236547265,
          0.022147342148939545,
          0.0258347479832004,
          0.023697620822694887,
          0.19284609545097445,
          0.1957677243052396,
          0.19627601751770227,
          0.20115066834546502,
          0.1965482599818933,
          0.20328713274622512,
          0.20218065245055605,
          0.2045948626016293,
          0.20288191999533156,
          0.20117334378351892,
          0.31796905556776767,
          0.32097854161492223,
          0.24921118315374888,
          0.31543952051060986,
          0.32226652853333015,
          0.3226583339279069,
          0.31584977508518997,
          0.32457017870703075,
          0.31765852568897734,
          0.30475263329681457,
          0.32547272826215967,
          0.32420840680913365,
          0.2421816636902687,
          0.3197101590362771,
          0.32772872590078717,
          0.3277154650031283,
          0.31875103898930546,
          0.3261242747777654,
          0.32251996098750924,
          0.3076751589988421,
          0.3254381531541787,
          0.3235956334692629,
          0.24028716211057632,
          0.3192277700192251,
          0.3276973137114704,
          0.3271427265868897,
          0.318351900295617,
          0.3253526984035473,
          0.3221782187450123,
          0.3066946697870021
         ],
         "y": [
          1,
          1,
          1,
          1,
          1,
          1,
          1,
          1,
          1,
          1,
          0.1,
          0.1,
          0.1,
          0.1,
          0.1,
          0.1,
          0.1,
          0.1,
          0.1,
          0.1,
          0.01,
          0.01,
          0.01,
          0.01,
          0.01,
          0.01,
          0.01,
          0.01,
          0.01,
          0.01,
          0.001,
          0.001,
          0.001,
          0.001,
          0.001,
          0.001,
          0.001,
          0.001,
          0.001,
          0.001,
          0.0001,
          0.0001,
          0.0001,
          0.0001,
          0.0001,
          0.0001,
          0.0001,
          0.0001,
          0.0001,
          0.0001,
          0,
          0,
          0,
          0,
          0,
          0,
          0,
          0,
          0,
          0
         ]
        }
       ],
       "layout": {
        "legend": {
         "font": {
          "color": "#000",
          "size": 12
         },
         "traceorder": "normal"
        },
        "title": {
         "text": "Performance of Lasso for different Alpha"
        },
        "xaxis": {
         "title": {
          "text": "Value of Alpha"
         }
        },
        "yaxis": {
         "title": {
          "text": "R2-Score"
         }
        }
       }
      },
      "text/html": [
       "<div id=\"937d3470-8ccc-427b-b57d-b5c5327a2515\" style=\"height: 525px; width: 100%;\" class=\"plotly-graph-div\"></div><script type=\"text/javascript\">require([\"plotly\"], function(Plotly) { window.PLOTLYENV=window.PLOTLYENV || {};window.PLOTLYENV.BASE_URL=\"https://plot.ly\";Plotly.newPlot(\"937d3470-8ccc-427b-b57d-b5c5327a2515\", [{\"marker\": {\"color\": [1.0, 1.0, 1.0, 1.0, 1.0, 1.0, 1.0, 1.0, 1.0, 1.0, 0.1, 0.1, 0.1, 0.1, 0.1, 0.1, 0.1, 0.1, 0.1, 0.1, 0.01, 0.01, 0.01, 0.01, 0.01, 0.01, 0.01, 0.01, 0.01, 0.01, 0.001, 0.001, 0.001, 0.001, 0.001, 0.001, 0.001, 0.001, 0.001, 0.001, 0.0001, 0.0001, 0.0001, 0.0001, 0.0001, 0.0001, 0.0001, 0.0001, 0.0001, 0.0001, 0.0, 0.0, 0.0, 0.0, 0.0, 0.0, 0.0, 0.0, 0.0, 0.0], \"colorbar\": {\"title\": {\"text\": \"Value of Alpha\"}}, \"showscale\": true, \"size\": 10}, \"mode\": \"markers+lines\", \"x\": [-0.0001356611701897048, -6.798585150713521e-05, -0.00011427062826396828, -5.925221635560974e-06, -1.8133050616597757e-11, -0.00017072918686666938, -6.596041394368868e-05, -1.805744434646428e-06, -4.24238837437585e-05, -1.125684322578202e-05, 0.0232968997755173, 0.023236324512133644, 0.02260009304346211, 0.02349483564473065, 0.024064560967311133, 0.02431624681476907, 0.024763104236547265, 0.022147342148939545, 0.0258347479832004, 0.023697620822694887, 0.19284609545097445, 0.1957677243052396, 0.19627601751770227, 0.20115066834546502, 0.1965482599818933, 0.20328713274622512, 0.20218065245055605, 0.2045948626016293, 0.20288191999533156, 0.20117334378351892, 0.31796905556776767, 0.32097854161492223, 0.24921118315374888, 0.31543952051060986, 0.32226652853333015, 0.3226583339279069, 0.31584977508518997, 0.32457017870703075, 0.31765852568897734, 0.30475263329681457, 0.32547272826215967, 0.32420840680913365, 0.2421816636902687, 0.3197101590362771, 0.32772872590078717, 0.3277154650031283, 0.31875103898930546, 0.3261242747777654, 0.32251996098750924, 0.3076751589988421, 0.3254381531541787, 0.3235956334692629, 0.24028716211057632, 0.3192277700192251, 0.3276973137114704, 0.3271427265868897, 0.318351900295617, 0.3253526984035473, 0.3221782187450123, 0.3066946697870021], \"y\": [1.0, 1.0, 1.0, 1.0, 1.0, 1.0, 1.0, 1.0, 1.0, 1.0, 0.1, 0.1, 0.1, 0.1, 0.1, 0.1, 0.1, 0.1, 0.1, 0.1, 0.01, 0.01, 0.01, 0.01, 0.01, 0.01, 0.01, 0.01, 0.01, 0.01, 0.001, 0.001, 0.001, 0.001, 0.001, 0.001, 0.001, 0.001, 0.001, 0.001, 0.0001, 0.0001, 0.0001, 0.0001, 0.0001, 0.0001, 0.0001, 0.0001, 0.0001, 0.0001, 0.0, 0.0, 0.0, 0.0, 0.0, 0.0, 0.0, 0.0, 0.0, 0.0], \"type\": \"scatter\", \"uid\": \"86dccbdd-d420-49dd-b6ee-92d4e4b381e2\"}], {\"legend\": {\"font\": {\"color\": \"#000\", \"size\": 12}, \"traceorder\": \"normal\"}, \"title\": {\"text\": \"Performance of Lasso for different Alpha\"}, \"xaxis\": {\"title\": {\"text\": \"Value of Alpha\"}}, \"yaxis\": {\"title\": {\"text\": \"R2-Score\"}}}, {\"showLink\": false, \"linkText\": \"Export to plot.ly\", \"plotlyServerURL\": \"https://plot.ly\"})});</script><script type=\"text/javascript\">window.addEventListener(\"resize\", function(){window._Plotly.Plots.resize(document.getElementById(\"937d3470-8ccc-427b-b57d-b5c5327a2515\"));});</script>"
      ],
      "text/vnd.plotly.v1+html": [
       "<div id=\"937d3470-8ccc-427b-b57d-b5c5327a2515\" style=\"height: 525px; width: 100%;\" class=\"plotly-graph-div\"></div><script type=\"text/javascript\">require([\"plotly\"], function(Plotly) { window.PLOTLYENV=window.PLOTLYENV || {};window.PLOTLYENV.BASE_URL=\"https://plot.ly\";Plotly.newPlot(\"937d3470-8ccc-427b-b57d-b5c5327a2515\", [{\"marker\": {\"color\": [1.0, 1.0, 1.0, 1.0, 1.0, 1.0, 1.0, 1.0, 1.0, 1.0, 0.1, 0.1, 0.1, 0.1, 0.1, 0.1, 0.1, 0.1, 0.1, 0.1, 0.01, 0.01, 0.01, 0.01, 0.01, 0.01, 0.01, 0.01, 0.01, 0.01, 0.001, 0.001, 0.001, 0.001, 0.001, 0.001, 0.001, 0.001, 0.001, 0.001, 0.0001, 0.0001, 0.0001, 0.0001, 0.0001, 0.0001, 0.0001, 0.0001, 0.0001, 0.0001, 0.0, 0.0, 0.0, 0.0, 0.0, 0.0, 0.0, 0.0, 0.0, 0.0], \"colorbar\": {\"title\": {\"text\": \"Value of Alpha\"}}, \"showscale\": true, \"size\": 10}, \"mode\": \"markers+lines\", \"x\": [-0.0001356611701897048, -6.798585150713521e-05, -0.00011427062826396828, -5.925221635560974e-06, -1.8133050616597757e-11, -0.00017072918686666938, -6.596041394368868e-05, -1.805744434646428e-06, -4.24238837437585e-05, -1.125684322578202e-05, 0.0232968997755173, 0.023236324512133644, 0.02260009304346211, 0.02349483564473065, 0.024064560967311133, 0.02431624681476907, 0.024763104236547265, 0.022147342148939545, 0.0258347479832004, 0.023697620822694887, 0.19284609545097445, 0.1957677243052396, 0.19627601751770227, 0.20115066834546502, 0.1965482599818933, 0.20328713274622512, 0.20218065245055605, 0.2045948626016293, 0.20288191999533156, 0.20117334378351892, 0.31796905556776767, 0.32097854161492223, 0.24921118315374888, 0.31543952051060986, 0.32226652853333015, 0.3226583339279069, 0.31584977508518997, 0.32457017870703075, 0.31765852568897734, 0.30475263329681457, 0.32547272826215967, 0.32420840680913365, 0.2421816636902687, 0.3197101590362771, 0.32772872590078717, 0.3277154650031283, 0.31875103898930546, 0.3261242747777654, 0.32251996098750924, 0.3076751589988421, 0.3254381531541787, 0.3235956334692629, 0.24028716211057632, 0.3192277700192251, 0.3276973137114704, 0.3271427265868897, 0.318351900295617, 0.3253526984035473, 0.3221782187450123, 0.3066946697870021], \"y\": [1.0, 1.0, 1.0, 1.0, 1.0, 1.0, 1.0, 1.0, 1.0, 1.0, 0.1, 0.1, 0.1, 0.1, 0.1, 0.1, 0.1, 0.1, 0.1, 0.1, 0.01, 0.01, 0.01, 0.01, 0.01, 0.01, 0.01, 0.01, 0.01, 0.01, 0.001, 0.001, 0.001, 0.001, 0.001, 0.001, 0.001, 0.001, 0.001, 0.001, 0.0001, 0.0001, 0.0001, 0.0001, 0.0001, 0.0001, 0.0001, 0.0001, 0.0001, 0.0001, 0.0, 0.0, 0.0, 0.0, 0.0, 0.0, 0.0, 0.0, 0.0, 0.0], \"type\": \"scatter\", \"uid\": \"86dccbdd-d420-49dd-b6ee-92d4e4b381e2\"}], {\"legend\": {\"font\": {\"color\": \"#000\", \"size\": 12}, \"traceorder\": \"normal\"}, \"title\": {\"text\": \"Performance of Lasso for different Alpha\"}, \"xaxis\": {\"title\": {\"text\": \"Value of Alpha\"}}, \"yaxis\": {\"title\": {\"text\": \"R2-Score\"}}}, {\"showLink\": false, \"linkText\": \"Export to plot.ly\", \"plotlyServerURL\": \"https://plot.ly\"})});</script><script type=\"text/javascript\">window.addEventListener(\"resize\", function(){window._Plotly.Plots.resize(document.getElementById(\"937d3470-8ccc-427b-b57d-b5c5327a2515\"));});</script>"
      ]
     },
     "metadata": {},
     "output_type": "display_data"
    }
   ],
   "source": [
    "# Plot for Lasso\n",
    "\n",
    "trace0 = go.Scatter(\n",
    "    x = df_lasso.lassoR2Score,\n",
    "    y = df_lasso.alpha,\n",
    "    mode = 'markers+lines',\n",
    "    marker=dict(\n",
    "        size=10,\n",
    "        color = df_lasso.alpha,\n",
    "        colorbar=dict(title='Value of Alpha'),\n",
    "        showscale=True\n",
    "    )\n",
    ")\n",
    "\n",
    "data = [trace0]\n",
    "\n",
    "layout= go.Layout(\n",
    "    legend=dict(\n",
    "        traceorder='normal',\n",
    "        font=dict(\n",
    "            size=12,\n",
    "            color='#000'\n",
    "        )\n",
    "    ),\n",
    "    title= 'Performance of Lasso for different Alpha',\n",
    "    xaxis= dict(\n",
    "        title= 'Value of Alpha'\n",
    "    ),\n",
    "    yaxis=dict(\n",
    "        title= 'R2-Score'\n",
    "    )\n",
    ")  \n",
    "\n",
    "fig= go.Figure(data=data, layout=layout)\n",
    "py.iplot(fig)\n"
   ]
  },
  {
   "cell_type": "code",
   "execution_count": 90,
   "metadata": {
    "collapsed": false
   },
   "outputs": [
    {
     "data": {
      "text/plain": [
       "[mean: 0.33435, std: 0.00828, params: {'max_depth': 3, 'n_estimators': 100},\n",
       " mean: 0.33423, std: 0.00839, params: {'max_depth': 3, 'n_estimators': 200},\n",
       " mean: 0.33426, std: 0.00832, params: {'max_depth': 3, 'n_estimators': 300},\n",
       " mean: 0.36278, std: 0.00728, params: {'max_depth': 4, 'n_estimators': 100},\n",
       " mean: 0.36277, std: 0.00735, params: {'max_depth': 4, 'n_estimators': 200},\n",
       " mean: 0.36281, std: 0.00721, params: {'max_depth': 4, 'n_estimators': 300},\n",
       " mean: 0.37854, std: 0.00681, params: {'max_depth': 5, 'n_estimators': 100},\n",
       " mean: 0.37856, std: 0.00680, params: {'max_depth': 5, 'n_estimators': 200},\n",
       " mean: 0.37859, std: 0.00687, params: {'max_depth': 5, 'n_estimators': 300}]"
      ]
     },
     "execution_count": 90,
     "metadata": {},
     "output_type": "execute_result"
    }
   ],
   "source": [
    "gridRF.grid_scores_"
   ]
  },
  {
   "cell_type": "code",
   "execution_count": 103,
   "metadata": {
    "collapsed": false
   },
   "outputs": [],
   "source": [
    "# Parameter visualization for Random Forest\n",
    "\n",
    "maxDepth = [y for x in [list(itertools.repeat(i, 30)) for i in [3,4,5]] for y in x]\n",
    "nEstimators = [y for x in [list(itertools.repeat(i, 10)) for i in [100,200,300]] for y in x]\n",
    "nEst = list()\n",
    "nEst.extend(nEstimators)\n",
    "nEst.extend(nEstimators)\n",
    "nEst.extend(nEstimators)\n",
    "\n",
    "RFR2Score = [y for x in grid_cv_scores_RF for y in x]\n",
    "\n",
    "df_rf = pd.DataFrame({'maxDepth': maxDepth, 'nEstimators': nEst, 'RFR2Score': RFR2Score})\n"
   ]
  },
  {
   "cell_type": "code",
   "execution_count": 104,
   "metadata": {
    "collapsed": false
   },
   "outputs": [
    {
     "data": {
      "application/vnd.plotly.v1+json": {
       "config": {
        "linkText": "Export to plot.ly",
        "plotlyServerURL": "https://plot.ly",
        "showLink": false
       },
       "data": [
        {
         "marker": {
          "color": [
           3,
           3,
           3,
           3,
           3,
           3,
           3,
           3,
           3,
           3,
           3,
           3,
           3,
           3,
           3,
           3,
           3,
           3,
           3,
           3,
           3,
           3,
           3,
           3,
           3,
           3,
           3,
           3,
           3,
           3,
           4,
           4,
           4,
           4,
           4,
           4,
           4,
           4,
           4,
           4,
           4,
           4,
           4,
           4,
           4,
           4,
           4,
           4,
           4,
           4,
           4,
           4,
           4,
           4,
           4,
           4,
           4,
           4,
           4,
           4,
           5,
           5,
           5,
           5,
           5,
           5,
           5,
           5,
           5,
           5,
           5,
           5,
           5,
           5,
           5,
           5,
           5,
           5,
           5,
           5,
           5,
           5,
           5,
           5,
           5,
           5,
           5,
           5,
           5,
           5
          ],
          "size": [
           6.666666666666667,
           6.666666666666667,
           6.666666666666667,
           6.666666666666667,
           6.666666666666667,
           6.666666666666667,
           6.666666666666667,
           6.666666666666667,
           6.666666666666667,
           6.666666666666667,
           13.333333333333334,
           13.333333333333334,
           13.333333333333334,
           13.333333333333334,
           13.333333333333334,
           13.333333333333334,
           13.333333333333334,
           13.333333333333334,
           13.333333333333334,
           13.333333333333334,
           20,
           20,
           20,
           20,
           20,
           20,
           20,
           20,
           20,
           20,
           6.666666666666667,
           6.666666666666667,
           6.666666666666667,
           6.666666666666667,
           6.666666666666667,
           6.666666666666667,
           6.666666666666667,
           6.666666666666667,
           6.666666666666667,
           6.666666666666667,
           13.333333333333334,
           13.333333333333334,
           13.333333333333334,
           13.333333333333334,
           13.333333333333334,
           13.333333333333334,
           13.333333333333334,
           13.333333333333334,
           13.333333333333334,
           13.333333333333334,
           20,
           20,
           20,
           20,
           20,
           20,
           20,
           20,
           20,
           20,
           6.666666666666667,
           6.666666666666667,
           6.666666666666667,
           6.666666666666667,
           6.666666666666667,
           6.666666666666667,
           6.666666666666667,
           6.666666666666667,
           6.666666666666667,
           6.666666666666667,
           13.333333333333334,
           13.333333333333334,
           13.333333333333334,
           13.333333333333334,
           13.333333333333334,
           13.333333333333334,
           13.333333333333334,
           13.333333333333334,
           13.333333333333334,
           13.333333333333334,
           20,
           20,
           20,
           20,
           20,
           20,
           20,
           20,
           20,
           20
          ]
         },
         "mode": "markers+lines",
         "type": "scatter",
         "uid": "a81f5624-5f7d-4cec-8d5b-33752f0de8b8",
         "x": [
          0,
          1,
          2,
          3,
          4,
          5,
          6,
          7,
          8,
          9,
          10,
          11,
          12,
          13,
          14,
          15,
          16,
          17,
          18,
          19,
          20,
          21,
          22,
          23,
          24,
          25,
          26,
          27,
          28,
          29,
          30,
          31,
          32,
          33,
          34,
          35,
          36,
          37,
          38,
          39,
          40,
          41,
          42,
          43,
          44,
          45,
          46,
          47,
          48,
          49,
          50,
          51,
          52,
          53,
          54,
          55,
          56,
          57,
          58,
          59,
          60,
          61,
          62,
          63,
          64,
          65,
          66,
          67,
          68,
          69,
          70,
          71,
          72,
          73,
          74,
          75,
          76,
          77,
          78,
          79,
          80,
          81,
          82,
          83,
          84,
          85,
          86,
          87,
          88,
          89
         ],
         "y": [
          0.3375027957109281,
          0.33742088086083055,
          0.3514686409458002,
          0.3297642996371063,
          0.32082494879684276,
          0.32722972257142646,
          0.33611429865076536,
          0.33571156229787,
          0.3412028022010231,
          0.32622900274716227,
          0.3373132453765201,
          0.33735808569824277,
          0.35132406787863624,
          0.3297425251856233,
          0.3205963676961796,
          0.3262935758719947,
          0.3361448981391859,
          0.3355322080609881,
          0.34169941788220765,
          0.32631046142026265,
          0.33742358522922344,
          0.33744209190596886,
          0.3513902171972798,
          0.33000635017736424,
          0.3206161110061462,
          0.3266791980613797,
          0.3360879329810217,
          0.33540820721659514,
          0.3412814657997497,
          0.3263050362696963,
          0.3661575811242704,
          0.3643907299010171,
          0.377523237226419,
          0.35453220019994874,
          0.35584616312457434,
          0.352916428559866,
          0.36238656675823266,
          0.3687240477481245,
          0.36769214444112663,
          0.35765511186186,
          0.3662271413640936,
          0.364198797511442,
          0.3773888866589471,
          0.3539577091662963,
          0.35588160450133227,
          0.35284653166817387,
          0.3626176003788859,
          0.3690393672790833,
          0.36776083964410083,
          0.3578014373521541,
          0.3659974443505099,
          0.36442923972477714,
          0.3770651527940182,
          0.35414922965094164,
          0.35615538299727145,
          0.3532514458499539,
          0.36242237739251704,
          0.36924003615226486,
          0.3677282813864883,
          0.35763191740457545,
          0.37911193882409544,
          0.3830699829040155,
          0.3910946111683939,
          0.37119437012614803,
          0.3719953481728596,
          0.36942048507100345,
          0.37498609595703025,
          0.38377810815548946,
          0.38577070549662884,
          0.3749355880577767,
          0.37877835301085294,
          0.3828904182178764,
          0.3914807235096444,
          0.3714110492477065,
          0.37183280635401617,
          0.3698716711940111,
          0.37485794658348914,
          0.3839078794705604,
          0.3856161668428106,
          0.3749112963239267,
          0.3788680539040283,
          0.38297415110602284,
          0.3916276198471002,
          0.37154365062563005,
          0.37164929403877955,
          0.3697182567767264,
          0.37517788464535984,
          0.3838422520747417,
          0.3858146059607745,
          0.37467083831409803
         ]
        }
       ],
       "layout": {
        "legend": {
         "font": {
          "color": "#000",
          "size": 12
         },
         "traceorder": "normal"
        },
        "title": {
         "text": "Performance of Random Forest"
        },
        "xaxis": {
         "title": {
          "text": "Number of runs"
         }
        },
        "yaxis": {
         "title": {
          "text": "R2-Score"
         }
        }
       }
      },
      "text/html": [
       "<div id=\"8e24bc4d-ca7b-478b-9e5d-8de294420a30\" style=\"height: 525px; width: 100%;\" class=\"plotly-graph-div\"></div><script type=\"text/javascript\">require([\"plotly\"], function(Plotly) { window.PLOTLYENV=window.PLOTLYENV || {};window.PLOTLYENV.BASE_URL=\"https://plot.ly\";Plotly.newPlot(\"8e24bc4d-ca7b-478b-9e5d-8de294420a30\", [{\"marker\": {\"color\": [3, 3, 3, 3, 3, 3, 3, 3, 3, 3, 3, 3, 3, 3, 3, 3, 3, 3, 3, 3, 3, 3, 3, 3, 3, 3, 3, 3, 3, 3, 4, 4, 4, 4, 4, 4, 4, 4, 4, 4, 4, 4, 4, 4, 4, 4, 4, 4, 4, 4, 4, 4, 4, 4, 4, 4, 4, 4, 4, 4, 5, 5, 5, 5, 5, 5, 5, 5, 5, 5, 5, 5, 5, 5, 5, 5, 5, 5, 5, 5, 5, 5, 5, 5, 5, 5, 5, 5, 5, 5], \"size\": [6.666666666666667, 6.666666666666667, 6.666666666666667, 6.666666666666667, 6.666666666666667, 6.666666666666667, 6.666666666666667, 6.666666666666667, 6.666666666666667, 6.666666666666667, 13.333333333333334, 13.333333333333334, 13.333333333333334, 13.333333333333334, 13.333333333333334, 13.333333333333334, 13.333333333333334, 13.333333333333334, 13.333333333333334, 13.333333333333334, 20.0, 20.0, 20.0, 20.0, 20.0, 20.0, 20.0, 20.0, 20.0, 20.0, 6.666666666666667, 6.666666666666667, 6.666666666666667, 6.666666666666667, 6.666666666666667, 6.666666666666667, 6.666666666666667, 6.666666666666667, 6.666666666666667, 6.666666666666667, 13.333333333333334, 13.333333333333334, 13.333333333333334, 13.333333333333334, 13.333333333333334, 13.333333333333334, 13.333333333333334, 13.333333333333334, 13.333333333333334, 13.333333333333334, 20.0, 20.0, 20.0, 20.0, 20.0, 20.0, 20.0, 20.0, 20.0, 20.0, 6.666666666666667, 6.666666666666667, 6.666666666666667, 6.666666666666667, 6.666666666666667, 6.666666666666667, 6.666666666666667, 6.666666666666667, 6.666666666666667, 6.666666666666667, 13.333333333333334, 13.333333333333334, 13.333333333333334, 13.333333333333334, 13.333333333333334, 13.333333333333334, 13.333333333333334, 13.333333333333334, 13.333333333333334, 13.333333333333334, 20.0, 20.0, 20.0, 20.0, 20.0, 20.0, 20.0, 20.0, 20.0, 20.0]}, \"mode\": \"markers+lines\", \"x\": [0, 1, 2, 3, 4, 5, 6, 7, 8, 9, 10, 11, 12, 13, 14, 15, 16, 17, 18, 19, 20, 21, 22, 23, 24, 25, 26, 27, 28, 29, 30, 31, 32, 33, 34, 35, 36, 37, 38, 39, 40, 41, 42, 43, 44, 45, 46, 47, 48, 49, 50, 51, 52, 53, 54, 55, 56, 57, 58, 59, 60, 61, 62, 63, 64, 65, 66, 67, 68, 69, 70, 71, 72, 73, 74, 75, 76, 77, 78, 79, 80, 81, 82, 83, 84, 85, 86, 87, 88, 89], \"y\": [0.3375027957109281, 0.33742088086083055, 0.3514686409458002, 0.3297642996371063, 0.32082494879684276, 0.32722972257142646, 0.33611429865076536, 0.33571156229787, 0.3412028022010231, 0.32622900274716227, 0.3373132453765201, 0.33735808569824277, 0.35132406787863624, 0.3297425251856233, 0.3205963676961796, 0.3262935758719947, 0.3361448981391859, 0.3355322080609881, 0.34169941788220765, 0.32631046142026265, 0.33742358522922344, 0.33744209190596886, 0.3513902171972798, 0.33000635017736424, 0.3206161110061462, 0.3266791980613797, 0.3360879329810217, 0.33540820721659514, 0.3412814657997497, 0.3263050362696963, 0.3661575811242704, 0.3643907299010171, 0.377523237226419, 0.35453220019994874, 0.35584616312457434, 0.352916428559866, 0.36238656675823266, 0.3687240477481245, 0.36769214444112663, 0.35765511186186, 0.3662271413640936, 0.364198797511442, 0.3773888866589471, 0.3539577091662963, 0.35588160450133227, 0.35284653166817387, 0.3626176003788859, 0.3690393672790833, 0.36776083964410083, 0.3578014373521541, 0.3659974443505099, 0.36442923972477714, 0.3770651527940182, 0.35414922965094164, 0.35615538299727145, 0.3532514458499539, 0.36242237739251704, 0.36924003615226486, 0.3677282813864883, 0.35763191740457545, 0.37911193882409544, 0.3830699829040155, 0.3910946111683939, 0.37119437012614803, 0.3719953481728596, 0.36942048507100345, 0.37498609595703025, 0.38377810815548946, 0.38577070549662884, 0.3749355880577767, 0.37877835301085294, 0.3828904182178764, 0.3914807235096444, 0.3714110492477065, 0.37183280635401617, 0.3698716711940111, 0.37485794658348914, 0.3839078794705604, 0.3856161668428106, 0.3749112963239267, 0.3788680539040283, 0.38297415110602284, 0.3916276198471002, 0.37154365062563005, 0.37164929403877955, 0.3697182567767264, 0.37517788464535984, 0.3838422520747417, 0.3858146059607745, 0.37467083831409803], \"type\": \"scatter\", \"uid\": \"a81f5624-5f7d-4cec-8d5b-33752f0de8b8\"}], {\"legend\": {\"font\": {\"color\": \"#000\", \"size\": 12}, \"traceorder\": \"normal\"}, \"title\": {\"text\": \"Performance of Random Forest\"}, \"xaxis\": {\"title\": {\"text\": \"Number of runs\"}}, \"yaxis\": {\"title\": {\"text\": \"R2-Score\"}}}, {\"showLink\": false, \"linkText\": \"Export to plot.ly\", \"plotlyServerURL\": \"https://plot.ly\"})});</script><script type=\"text/javascript\">window.addEventListener(\"resize\", function(){window._Plotly.Plots.resize(document.getElementById(\"8e24bc4d-ca7b-478b-9e5d-8de294420a30\"));});</script>"
      ],
      "text/vnd.plotly.v1+html": [
       "<div id=\"8e24bc4d-ca7b-478b-9e5d-8de294420a30\" style=\"height: 525px; width: 100%;\" class=\"plotly-graph-div\"></div><script type=\"text/javascript\">require([\"plotly\"], function(Plotly) { window.PLOTLYENV=window.PLOTLYENV || {};window.PLOTLYENV.BASE_URL=\"https://plot.ly\";Plotly.newPlot(\"8e24bc4d-ca7b-478b-9e5d-8de294420a30\", [{\"marker\": {\"color\": [3, 3, 3, 3, 3, 3, 3, 3, 3, 3, 3, 3, 3, 3, 3, 3, 3, 3, 3, 3, 3, 3, 3, 3, 3, 3, 3, 3, 3, 3, 4, 4, 4, 4, 4, 4, 4, 4, 4, 4, 4, 4, 4, 4, 4, 4, 4, 4, 4, 4, 4, 4, 4, 4, 4, 4, 4, 4, 4, 4, 5, 5, 5, 5, 5, 5, 5, 5, 5, 5, 5, 5, 5, 5, 5, 5, 5, 5, 5, 5, 5, 5, 5, 5, 5, 5, 5, 5, 5, 5], \"size\": [6.666666666666667, 6.666666666666667, 6.666666666666667, 6.666666666666667, 6.666666666666667, 6.666666666666667, 6.666666666666667, 6.666666666666667, 6.666666666666667, 6.666666666666667, 13.333333333333334, 13.333333333333334, 13.333333333333334, 13.333333333333334, 13.333333333333334, 13.333333333333334, 13.333333333333334, 13.333333333333334, 13.333333333333334, 13.333333333333334, 20.0, 20.0, 20.0, 20.0, 20.0, 20.0, 20.0, 20.0, 20.0, 20.0, 6.666666666666667, 6.666666666666667, 6.666666666666667, 6.666666666666667, 6.666666666666667, 6.666666666666667, 6.666666666666667, 6.666666666666667, 6.666666666666667, 6.666666666666667, 13.333333333333334, 13.333333333333334, 13.333333333333334, 13.333333333333334, 13.333333333333334, 13.333333333333334, 13.333333333333334, 13.333333333333334, 13.333333333333334, 13.333333333333334, 20.0, 20.0, 20.0, 20.0, 20.0, 20.0, 20.0, 20.0, 20.0, 20.0, 6.666666666666667, 6.666666666666667, 6.666666666666667, 6.666666666666667, 6.666666666666667, 6.666666666666667, 6.666666666666667, 6.666666666666667, 6.666666666666667, 6.666666666666667, 13.333333333333334, 13.333333333333334, 13.333333333333334, 13.333333333333334, 13.333333333333334, 13.333333333333334, 13.333333333333334, 13.333333333333334, 13.333333333333334, 13.333333333333334, 20.0, 20.0, 20.0, 20.0, 20.0, 20.0, 20.0, 20.0, 20.0, 20.0]}, \"mode\": \"markers+lines\", \"x\": [0, 1, 2, 3, 4, 5, 6, 7, 8, 9, 10, 11, 12, 13, 14, 15, 16, 17, 18, 19, 20, 21, 22, 23, 24, 25, 26, 27, 28, 29, 30, 31, 32, 33, 34, 35, 36, 37, 38, 39, 40, 41, 42, 43, 44, 45, 46, 47, 48, 49, 50, 51, 52, 53, 54, 55, 56, 57, 58, 59, 60, 61, 62, 63, 64, 65, 66, 67, 68, 69, 70, 71, 72, 73, 74, 75, 76, 77, 78, 79, 80, 81, 82, 83, 84, 85, 86, 87, 88, 89], \"y\": [0.3375027957109281, 0.33742088086083055, 0.3514686409458002, 0.3297642996371063, 0.32082494879684276, 0.32722972257142646, 0.33611429865076536, 0.33571156229787, 0.3412028022010231, 0.32622900274716227, 0.3373132453765201, 0.33735808569824277, 0.35132406787863624, 0.3297425251856233, 0.3205963676961796, 0.3262935758719947, 0.3361448981391859, 0.3355322080609881, 0.34169941788220765, 0.32631046142026265, 0.33742358522922344, 0.33744209190596886, 0.3513902171972798, 0.33000635017736424, 0.3206161110061462, 0.3266791980613797, 0.3360879329810217, 0.33540820721659514, 0.3412814657997497, 0.3263050362696963, 0.3661575811242704, 0.3643907299010171, 0.377523237226419, 0.35453220019994874, 0.35584616312457434, 0.352916428559866, 0.36238656675823266, 0.3687240477481245, 0.36769214444112663, 0.35765511186186, 0.3662271413640936, 0.364198797511442, 0.3773888866589471, 0.3539577091662963, 0.35588160450133227, 0.35284653166817387, 0.3626176003788859, 0.3690393672790833, 0.36776083964410083, 0.3578014373521541, 0.3659974443505099, 0.36442923972477714, 0.3770651527940182, 0.35414922965094164, 0.35615538299727145, 0.3532514458499539, 0.36242237739251704, 0.36924003615226486, 0.3677282813864883, 0.35763191740457545, 0.37911193882409544, 0.3830699829040155, 0.3910946111683939, 0.37119437012614803, 0.3719953481728596, 0.36942048507100345, 0.37498609595703025, 0.38377810815548946, 0.38577070549662884, 0.3749355880577767, 0.37877835301085294, 0.3828904182178764, 0.3914807235096444, 0.3714110492477065, 0.37183280635401617, 0.3698716711940111, 0.37485794658348914, 0.3839078794705604, 0.3856161668428106, 0.3749112963239267, 0.3788680539040283, 0.38297415110602284, 0.3916276198471002, 0.37154365062563005, 0.37164929403877955, 0.3697182567767264, 0.37517788464535984, 0.3838422520747417, 0.3858146059607745, 0.37467083831409803], \"type\": \"scatter\", \"uid\": \"a81f5624-5f7d-4cec-8d5b-33752f0de8b8\"}], {\"legend\": {\"font\": {\"color\": \"#000\", \"size\": 12}, \"traceorder\": \"normal\"}, \"title\": {\"text\": \"Performance of Random Forest\"}, \"xaxis\": {\"title\": {\"text\": \"Number of runs\"}}, \"yaxis\": {\"title\": {\"text\": \"R2-Score\"}}}, {\"showLink\": false, \"linkText\": \"Export to plot.ly\", \"plotlyServerURL\": \"https://plot.ly\"})});</script><script type=\"text/javascript\">window.addEventListener(\"resize\", function(){window._Plotly.Plots.resize(document.getElementById(\"8e24bc4d-ca7b-478b-9e5d-8de294420a30\"));});</script>"
      ]
     },
     "metadata": {},
     "output_type": "display_data"
    }
   ],
   "source": [
    "# Scatter plot to display the result of Random Forest \n",
    "\n",
    "trace0 = go.Scatter(\n",
    "    x = df_rf.index,\n",
    "    y = df_rf.RFR2Score,\n",
    "    mode = 'markers+lines',\n",
    "    marker=dict(\n",
    "        size=df_rf.nEstimators/15,\n",
    "        color = df_rf.maxDepth\n",
    "    )\n",
    ")\n",
    "\n",
    "data = [trace0]\n",
    "\n",
    "layout= go.Layout(\n",
    "    legend=dict(\n",
    "        traceorder='normal',\n",
    "        font=dict(\n",
    "            size=12,\n",
    "            color='#000'\n",
    "        )\n",
    "    ),\n",
    "    title= 'Performance of Random Forest',\n",
    "    xaxis= dict(\n",
    "        title= 'Number of runs'\n",
    "    ),\n",
    "    yaxis=dict(\n",
    "        title= 'R2-Score'\n",
    "    )\n",
    ")  \n",
    "\n",
    "fig= go.Figure(data=data, layout=layout)\n",
    "py.iplot(fig)"
   ]
  },
  {
   "cell_type": "code",
   "execution_count": 107,
   "metadata": {
    "collapsed": false,
    "scrolled": true
   },
   "outputs": [],
   "source": [
    "# Parameter visualization for Random Forest\n",
    "\n",
    "learningRate = [y for x in [list(itertools.repeat(i, 30)) for i in [0.03, 0.05, 0.1, 0.5]] for y in x]\n",
    "maxDepth = [y for x in [list(itertools.repeat(i, 10)) for i in [3,4,5]] for y in x]\n",
    "maxDep = list()\n",
    "maxDep.extend(maxDepth)\n",
    "maxDep.extend(maxDepth)\n",
    "maxDep.extend(maxDepth)\n",
    "maxDep.extend(maxDepth)\n",
    "\n",
    "RFR2Score = [y for x in grid_cv_scores_XG for y in x]\n",
    "\n",
    "df_xg = pd.DataFrame({'maxDepth': maxDep, 'learningRate': learningRate, 'RFR2Score': RFR2Score})\n"
   ]
  },
  {
   "cell_type": "code",
   "execution_count": 108,
   "metadata": {
    "collapsed": false
   },
   "outputs": [
    {
     "data": {
      "application/vnd.plotly.v1+json": {
       "config": {
        "linkText": "Export to plot.ly",
        "plotlyServerURL": "https://plot.ly",
        "showLink": false
       },
       "data": [
        {
         "marker": {
          "color": [
           0.03,
           0.03,
           0.03,
           0.03,
           0.03,
           0.03,
           0.03,
           0.03,
           0.03,
           0.03,
           0.03,
           0.03,
           0.03,
           0.03,
           0.03,
           0.03,
           0.03,
           0.03,
           0.03,
           0.03,
           0.03,
           0.03,
           0.03,
           0.03,
           0.03,
           0.03,
           0.03,
           0.03,
           0.03,
           0.03,
           0.05,
           0.05,
           0.05,
           0.05,
           0.05,
           0.05,
           0.05,
           0.05,
           0.05,
           0.05,
           0.05,
           0.05,
           0.05,
           0.05,
           0.05,
           0.05,
           0.05,
           0.05,
           0.05,
           0.05,
           0.05,
           0.05,
           0.05,
           0.05,
           0.05,
           0.05,
           0.05,
           0.05,
           0.05,
           0.05,
           0.1,
           0.1,
           0.1,
           0.1,
           0.1,
           0.1,
           0.1,
           0.1,
           0.1,
           0.1,
           0.1,
           0.1,
           0.1,
           0.1,
           0.1,
           0.1,
           0.1,
           0.1,
           0.1,
           0.1,
           0.1,
           0.1,
           0.1,
           0.1,
           0.1,
           0.1,
           0.1,
           0.1,
           0.1,
           0.1,
           0.5,
           0.5,
           0.5,
           0.5,
           0.5,
           0.5,
           0.5,
           0.5,
           0.5,
           0.5,
           0.5,
           0.5,
           0.5,
           0.5,
           0.5,
           0.5,
           0.5,
           0.5,
           0.5,
           0.5,
           0.5,
           0.5,
           0.5,
           0.5,
           0.5,
           0.5,
           0.5,
           0.5,
           0.5,
           0.5
          ],
          "size": [
           15,
           15,
           15,
           15,
           15,
           15,
           15,
           15,
           15,
           15,
           20,
           20,
           20,
           20,
           20,
           20,
           20,
           20,
           20,
           20,
           25,
           25,
           25,
           25,
           25,
           25,
           25,
           25,
           25,
           25,
           15,
           15,
           15,
           15,
           15,
           15,
           15,
           15,
           15,
           15,
           20,
           20,
           20,
           20,
           20,
           20,
           20,
           20,
           20,
           20,
           25,
           25,
           25,
           25,
           25,
           25,
           25,
           25,
           25,
           25,
           15,
           15,
           15,
           15,
           15,
           15,
           15,
           15,
           15,
           15,
           20,
           20,
           20,
           20,
           20,
           20,
           20,
           20,
           20,
           20,
           25,
           25,
           25,
           25,
           25,
           25,
           25,
           25,
           25,
           25,
           15,
           15,
           15,
           15,
           15,
           15,
           15,
           15,
           15,
           15,
           20,
           20,
           20,
           20,
           20,
           20,
           20,
           20,
           20,
           20,
           25,
           25,
           25,
           25,
           25,
           25,
           25,
           25,
           25,
           25
          ]
         },
         "mode": "markers+lines",
         "type": "scatter",
         "uid": "167dd618-c866-44b2-ac8c-b70152c0be15",
         "x": [
          0,
          1,
          2,
          3,
          4,
          5,
          6,
          7,
          8,
          9,
          10,
          11,
          12,
          13,
          14,
          15,
          16,
          17,
          18,
          19,
          20,
          21,
          22,
          23,
          24,
          25,
          26,
          27,
          28,
          29,
          30,
          31,
          32,
          33,
          34,
          35,
          36,
          37,
          38,
          39,
          40,
          41,
          42,
          43,
          44,
          45,
          46,
          47,
          48,
          49,
          50,
          51,
          52,
          53,
          54,
          55,
          56,
          57,
          58,
          59,
          60,
          61,
          62,
          63,
          64,
          65,
          66,
          67,
          68,
          69,
          70,
          71,
          72,
          73,
          74,
          75,
          76,
          77,
          78,
          79,
          80,
          81,
          82,
          83,
          84,
          85,
          86,
          87,
          88,
          89,
          90,
          91,
          92,
          93,
          94,
          95,
          96,
          97,
          98,
          99,
          100,
          101,
          102,
          103,
          104,
          105,
          106,
          107,
          108,
          109,
          110,
          111,
          112,
          113,
          114,
          115,
          116,
          117,
          118,
          119
         ],
         "y": [
          -1.5326700793822012,
          -1.5473378301336043,
          -1.4869401798571096,
          -1.5375862900369743,
          -1.5123732792878866,
          -1.4849800179422599,
          -1.5057878153581639,
          -1.4735646325315477,
          -1.5207027348372222,
          -1.5182949381867625,
          -1.5189434625744793,
          -1.529770154731138,
          -1.4701722731483362,
          -1.5232449460376156,
          -1.4939706783306246,
          -1.4710693122349963,
          -1.4906836019460599,
          -1.4574000522982964,
          -1.5052002207895774,
          -1.4985210887657416,
          -1.509396566374869,
          -1.5185587190804333,
          -1.4575228899475887,
          -1.5117881412826435,
          -1.4824166379597368,
          -1.4618618555771796,
          -1.4803662907678745,
          -1.44573884857336,
          -1.493186652467779,
          -1.4857218021947944,
          0.37407048573260826,
          0.38023581578157917,
          0.3861050108709438,
          0.36827281765607783,
          0.37139749730008126,
          0.3757538056696491,
          0.3781326478657678,
          0.378870735390313,
          0.3778855605403151,
          0.3722490125042373,
          0.3899714837703395,
          0.39604077418821,
          0.3998648701967808,
          0.3837272423571046,
          0.38759078885233766,
          0.38983732506544444,
          0.3945262458010394,
          0.39558340772158573,
          0.39261407893002276,
          0.386304273395978,
          0.3995230655209094,
          0.40875055797572774,
          0.4102642855040112,
          0.39503840265298606,
          0.39825761363446055,
          0.40243066018373985,
          0.40362614362077376,
          0.40729609187587684,
          0.40386445190931974,
          0.3976256314057599,
          0.42422647954815174,
          0.43425925452730474,
          0.43854435987195817,
          0.4219905130053473,
          0.42131708719576133,
          0.4208093541800129,
          0.4248211289328907,
          0.42966224791918683,
          0.43208216069810546,
          0.42316176547641554,
          0.436953237337957,
          0.4489370382801406,
          0.45053955043071003,
          0.43418172597144333,
          0.4343396623179132,
          0.43455952294646305,
          0.4397897366638776,
          0.44345244335555833,
          0.4434824077417627,
          0.43557449442684193,
          0.44550692361322486,
          0.45756682582441294,
          0.4606169279774329,
          0.44320803924808555,
          0.44568414314632904,
          0.4444503277040256,
          0.44674711014385876,
          0.45599327878325263,
          0.45497169757693184,
          0.44459060784061394,
          0.4529194982659596,
          0.4690015640376686,
          0.4660106063237409,
          0.4491422395689343,
          0.4518676302266303,
          0.44965384216590626,
          0.4528235267817218,
          0.4630640952519016,
          0.4636881718887936,
          0.4547055806827579,
          0.45659515729303424,
          0.4731212439340746,
          0.4698465294517449,
          0.4540232354184512,
          0.45522764091600093,
          0.4500306071488307,
          0.45215096008903005,
          0.4662222141187027,
          0.4669743607505311,
          0.4541174302246498,
          0.45224345916871833,
          0.46672305117973073,
          0.46772917845685863,
          0.4559839890932995,
          0.45440793274732594,
          0.4515690707529391,
          0.4519360454239625,
          0.46419248998775053,
          0.46247378842026765,
          0.45020482380679727
         ]
        }
       ],
       "layout": {
        "legend": {
         "font": {
          "color": "#000",
          "size": 12
         },
         "traceorder": "normal"
        },
        "title": {
         "text": "Performance of XGBoost"
        },
        "xaxis": {
         "title": {
          "text": "Number of runs"
         }
        },
        "yaxis": {
         "title": {
          "text": "R2-Score"
         }
        }
       }
      },
      "text/html": [
       "<div id=\"6d85805d-2d7b-4e70-9455-d5b46201c9a8\" style=\"height: 525px; width: 100%;\" class=\"plotly-graph-div\"></div><script type=\"text/javascript\">require([\"plotly\"], function(Plotly) { window.PLOTLYENV=window.PLOTLYENV || {};window.PLOTLYENV.BASE_URL=\"https://plot.ly\";Plotly.newPlot(\"6d85805d-2d7b-4e70-9455-d5b46201c9a8\", [{\"marker\": {\"color\": [0.03, 0.03, 0.03, 0.03, 0.03, 0.03, 0.03, 0.03, 0.03, 0.03, 0.03, 0.03, 0.03, 0.03, 0.03, 0.03, 0.03, 0.03, 0.03, 0.03, 0.03, 0.03, 0.03, 0.03, 0.03, 0.03, 0.03, 0.03, 0.03, 0.03, 0.05, 0.05, 0.05, 0.05, 0.05, 0.05, 0.05, 0.05, 0.05, 0.05, 0.05, 0.05, 0.05, 0.05, 0.05, 0.05, 0.05, 0.05, 0.05, 0.05, 0.05, 0.05, 0.05, 0.05, 0.05, 0.05, 0.05, 0.05, 0.05, 0.05, 0.1, 0.1, 0.1, 0.1, 0.1, 0.1, 0.1, 0.1, 0.1, 0.1, 0.1, 0.1, 0.1, 0.1, 0.1, 0.1, 0.1, 0.1, 0.1, 0.1, 0.1, 0.1, 0.1, 0.1, 0.1, 0.1, 0.1, 0.1, 0.1, 0.1, 0.5, 0.5, 0.5, 0.5, 0.5, 0.5, 0.5, 0.5, 0.5, 0.5, 0.5, 0.5, 0.5, 0.5, 0.5, 0.5, 0.5, 0.5, 0.5, 0.5, 0.5, 0.5, 0.5, 0.5, 0.5, 0.5, 0.5, 0.5, 0.5, 0.5], \"size\": [15, 15, 15, 15, 15, 15, 15, 15, 15, 15, 20, 20, 20, 20, 20, 20, 20, 20, 20, 20, 25, 25, 25, 25, 25, 25, 25, 25, 25, 25, 15, 15, 15, 15, 15, 15, 15, 15, 15, 15, 20, 20, 20, 20, 20, 20, 20, 20, 20, 20, 25, 25, 25, 25, 25, 25, 25, 25, 25, 25, 15, 15, 15, 15, 15, 15, 15, 15, 15, 15, 20, 20, 20, 20, 20, 20, 20, 20, 20, 20, 25, 25, 25, 25, 25, 25, 25, 25, 25, 25, 15, 15, 15, 15, 15, 15, 15, 15, 15, 15, 20, 20, 20, 20, 20, 20, 20, 20, 20, 20, 25, 25, 25, 25, 25, 25, 25, 25, 25, 25]}, \"mode\": \"markers+lines\", \"x\": [0, 1, 2, 3, 4, 5, 6, 7, 8, 9, 10, 11, 12, 13, 14, 15, 16, 17, 18, 19, 20, 21, 22, 23, 24, 25, 26, 27, 28, 29, 30, 31, 32, 33, 34, 35, 36, 37, 38, 39, 40, 41, 42, 43, 44, 45, 46, 47, 48, 49, 50, 51, 52, 53, 54, 55, 56, 57, 58, 59, 60, 61, 62, 63, 64, 65, 66, 67, 68, 69, 70, 71, 72, 73, 74, 75, 76, 77, 78, 79, 80, 81, 82, 83, 84, 85, 86, 87, 88, 89, 90, 91, 92, 93, 94, 95, 96, 97, 98, 99, 100, 101, 102, 103, 104, 105, 106, 107, 108, 109, 110, 111, 112, 113, 114, 115, 116, 117, 118, 119], \"y\": [-1.5326700793822012, -1.5473378301336043, -1.4869401798571096, -1.5375862900369743, -1.5123732792878866, -1.4849800179422599, -1.5057878153581639, -1.4735646325315477, -1.5207027348372222, -1.5182949381867625, -1.5189434625744793, -1.529770154731138, -1.4701722731483362, -1.5232449460376156, -1.4939706783306246, -1.4710693122349963, -1.4906836019460599, -1.4574000522982964, -1.5052002207895774, -1.4985210887657416, -1.509396566374869, -1.5185587190804333, -1.4575228899475887, -1.5117881412826435, -1.4824166379597368, -1.4618618555771796, -1.4803662907678745, -1.44573884857336, -1.493186652467779, -1.4857218021947944, 0.37407048573260826, 0.38023581578157917, 0.3861050108709438, 0.36827281765607783, 0.37139749730008126, 0.3757538056696491, 0.3781326478657678, 0.378870735390313, 0.3778855605403151, 0.3722490125042373, 0.3899714837703395, 0.39604077418821, 0.3998648701967808, 0.3837272423571046, 0.38759078885233766, 0.38983732506544444, 0.3945262458010394, 0.39558340772158573, 0.39261407893002276, 0.386304273395978, 0.3995230655209094, 0.40875055797572774, 0.4102642855040112, 0.39503840265298606, 0.39825761363446055, 0.40243066018373985, 0.40362614362077376, 0.40729609187587684, 0.40386445190931974, 0.3976256314057599, 0.42422647954815174, 0.43425925452730474, 0.43854435987195817, 0.4219905130053473, 0.42131708719576133, 0.4208093541800129, 0.4248211289328907, 0.42966224791918683, 0.43208216069810546, 0.42316176547641554, 0.436953237337957, 0.4489370382801406, 0.45053955043071003, 0.43418172597144333, 0.4343396623179132, 0.43455952294646305, 0.4397897366638776, 0.44345244335555833, 0.4434824077417627, 0.43557449442684193, 0.44550692361322486, 0.45756682582441294, 0.4606169279774329, 0.44320803924808555, 0.44568414314632904, 0.4444503277040256, 0.44674711014385876, 0.45599327878325263, 0.45497169757693184, 0.44459060784061394, 0.4529194982659596, 0.4690015640376686, 0.4660106063237409, 0.4491422395689343, 0.4518676302266303, 0.44965384216590626, 0.4528235267817218, 0.4630640952519016, 0.4636881718887936, 0.4547055806827579, 0.45659515729303424, 0.4731212439340746, 0.4698465294517449, 0.4540232354184512, 0.45522764091600093, 0.4500306071488307, 0.45215096008903005, 0.4662222141187027, 0.4669743607505311, 0.4541174302246498, 0.45224345916871833, 0.46672305117973073, 0.46772917845685863, 0.4559839890932995, 0.45440793274732594, 0.4515690707529391, 0.4519360454239625, 0.46419248998775053, 0.46247378842026765, 0.45020482380679727], \"type\": \"scatter\", \"uid\": \"167dd618-c866-44b2-ac8c-b70152c0be15\"}], {\"legend\": {\"font\": {\"color\": \"#000\", \"size\": 12}, \"traceorder\": \"normal\"}, \"title\": {\"text\": \"Performance of XGBoost\"}, \"xaxis\": {\"title\": {\"text\": \"Number of runs\"}}, \"yaxis\": {\"title\": {\"text\": \"R2-Score\"}}}, {\"showLink\": false, \"linkText\": \"Export to plot.ly\", \"plotlyServerURL\": \"https://plot.ly\"})});</script><script type=\"text/javascript\">window.addEventListener(\"resize\", function(){window._Plotly.Plots.resize(document.getElementById(\"6d85805d-2d7b-4e70-9455-d5b46201c9a8\"));});</script>"
      ],
      "text/vnd.plotly.v1+html": [
       "<div id=\"6d85805d-2d7b-4e70-9455-d5b46201c9a8\" style=\"height: 525px; width: 100%;\" class=\"plotly-graph-div\"></div><script type=\"text/javascript\">require([\"plotly\"], function(Plotly) { window.PLOTLYENV=window.PLOTLYENV || {};window.PLOTLYENV.BASE_URL=\"https://plot.ly\";Plotly.newPlot(\"6d85805d-2d7b-4e70-9455-d5b46201c9a8\", [{\"marker\": {\"color\": [0.03, 0.03, 0.03, 0.03, 0.03, 0.03, 0.03, 0.03, 0.03, 0.03, 0.03, 0.03, 0.03, 0.03, 0.03, 0.03, 0.03, 0.03, 0.03, 0.03, 0.03, 0.03, 0.03, 0.03, 0.03, 0.03, 0.03, 0.03, 0.03, 0.03, 0.05, 0.05, 0.05, 0.05, 0.05, 0.05, 0.05, 0.05, 0.05, 0.05, 0.05, 0.05, 0.05, 0.05, 0.05, 0.05, 0.05, 0.05, 0.05, 0.05, 0.05, 0.05, 0.05, 0.05, 0.05, 0.05, 0.05, 0.05, 0.05, 0.05, 0.1, 0.1, 0.1, 0.1, 0.1, 0.1, 0.1, 0.1, 0.1, 0.1, 0.1, 0.1, 0.1, 0.1, 0.1, 0.1, 0.1, 0.1, 0.1, 0.1, 0.1, 0.1, 0.1, 0.1, 0.1, 0.1, 0.1, 0.1, 0.1, 0.1, 0.5, 0.5, 0.5, 0.5, 0.5, 0.5, 0.5, 0.5, 0.5, 0.5, 0.5, 0.5, 0.5, 0.5, 0.5, 0.5, 0.5, 0.5, 0.5, 0.5, 0.5, 0.5, 0.5, 0.5, 0.5, 0.5, 0.5, 0.5, 0.5, 0.5], \"size\": [15, 15, 15, 15, 15, 15, 15, 15, 15, 15, 20, 20, 20, 20, 20, 20, 20, 20, 20, 20, 25, 25, 25, 25, 25, 25, 25, 25, 25, 25, 15, 15, 15, 15, 15, 15, 15, 15, 15, 15, 20, 20, 20, 20, 20, 20, 20, 20, 20, 20, 25, 25, 25, 25, 25, 25, 25, 25, 25, 25, 15, 15, 15, 15, 15, 15, 15, 15, 15, 15, 20, 20, 20, 20, 20, 20, 20, 20, 20, 20, 25, 25, 25, 25, 25, 25, 25, 25, 25, 25, 15, 15, 15, 15, 15, 15, 15, 15, 15, 15, 20, 20, 20, 20, 20, 20, 20, 20, 20, 20, 25, 25, 25, 25, 25, 25, 25, 25, 25, 25]}, \"mode\": \"markers+lines\", \"x\": [0, 1, 2, 3, 4, 5, 6, 7, 8, 9, 10, 11, 12, 13, 14, 15, 16, 17, 18, 19, 20, 21, 22, 23, 24, 25, 26, 27, 28, 29, 30, 31, 32, 33, 34, 35, 36, 37, 38, 39, 40, 41, 42, 43, 44, 45, 46, 47, 48, 49, 50, 51, 52, 53, 54, 55, 56, 57, 58, 59, 60, 61, 62, 63, 64, 65, 66, 67, 68, 69, 70, 71, 72, 73, 74, 75, 76, 77, 78, 79, 80, 81, 82, 83, 84, 85, 86, 87, 88, 89, 90, 91, 92, 93, 94, 95, 96, 97, 98, 99, 100, 101, 102, 103, 104, 105, 106, 107, 108, 109, 110, 111, 112, 113, 114, 115, 116, 117, 118, 119], \"y\": [-1.5326700793822012, -1.5473378301336043, -1.4869401798571096, -1.5375862900369743, -1.5123732792878866, -1.4849800179422599, -1.5057878153581639, -1.4735646325315477, -1.5207027348372222, -1.5182949381867625, -1.5189434625744793, -1.529770154731138, -1.4701722731483362, -1.5232449460376156, -1.4939706783306246, -1.4710693122349963, -1.4906836019460599, -1.4574000522982964, -1.5052002207895774, -1.4985210887657416, -1.509396566374869, -1.5185587190804333, -1.4575228899475887, -1.5117881412826435, -1.4824166379597368, -1.4618618555771796, -1.4803662907678745, -1.44573884857336, -1.493186652467779, -1.4857218021947944, 0.37407048573260826, 0.38023581578157917, 0.3861050108709438, 0.36827281765607783, 0.37139749730008126, 0.3757538056696491, 0.3781326478657678, 0.378870735390313, 0.3778855605403151, 0.3722490125042373, 0.3899714837703395, 0.39604077418821, 0.3998648701967808, 0.3837272423571046, 0.38759078885233766, 0.38983732506544444, 0.3945262458010394, 0.39558340772158573, 0.39261407893002276, 0.386304273395978, 0.3995230655209094, 0.40875055797572774, 0.4102642855040112, 0.39503840265298606, 0.39825761363446055, 0.40243066018373985, 0.40362614362077376, 0.40729609187587684, 0.40386445190931974, 0.3976256314057599, 0.42422647954815174, 0.43425925452730474, 0.43854435987195817, 0.4219905130053473, 0.42131708719576133, 0.4208093541800129, 0.4248211289328907, 0.42966224791918683, 0.43208216069810546, 0.42316176547641554, 0.436953237337957, 0.4489370382801406, 0.45053955043071003, 0.43418172597144333, 0.4343396623179132, 0.43455952294646305, 0.4397897366638776, 0.44345244335555833, 0.4434824077417627, 0.43557449442684193, 0.44550692361322486, 0.45756682582441294, 0.4606169279774329, 0.44320803924808555, 0.44568414314632904, 0.4444503277040256, 0.44674711014385876, 0.45599327878325263, 0.45497169757693184, 0.44459060784061394, 0.4529194982659596, 0.4690015640376686, 0.4660106063237409, 0.4491422395689343, 0.4518676302266303, 0.44965384216590626, 0.4528235267817218, 0.4630640952519016, 0.4636881718887936, 0.4547055806827579, 0.45659515729303424, 0.4731212439340746, 0.4698465294517449, 0.4540232354184512, 0.45522764091600093, 0.4500306071488307, 0.45215096008903005, 0.4662222141187027, 0.4669743607505311, 0.4541174302246498, 0.45224345916871833, 0.46672305117973073, 0.46772917845685863, 0.4559839890932995, 0.45440793274732594, 0.4515690707529391, 0.4519360454239625, 0.46419248998775053, 0.46247378842026765, 0.45020482380679727], \"type\": \"scatter\", \"uid\": \"167dd618-c866-44b2-ac8c-b70152c0be15\"}], {\"legend\": {\"font\": {\"color\": \"#000\", \"size\": 12}, \"traceorder\": \"normal\"}, \"title\": {\"text\": \"Performance of XGBoost\"}, \"xaxis\": {\"title\": {\"text\": \"Number of runs\"}}, \"yaxis\": {\"title\": {\"text\": \"R2-Score\"}}}, {\"showLink\": false, \"linkText\": \"Export to plot.ly\", \"plotlyServerURL\": \"https://plot.ly\"})});</script><script type=\"text/javascript\">window.addEventListener(\"resize\", function(){window._Plotly.Plots.resize(document.getElementById(\"6d85805d-2d7b-4e70-9455-d5b46201c9a8\"));});</script>"
      ]
     },
     "metadata": {},
     "output_type": "display_data"
    }
   ],
   "source": [
    "# Hyperparameter plot to display the result of XGBoost\n",
    "\n",
    "trace0 = go.Scatter(\n",
    "    x = df_xg.index,\n",
    "    y = df_xg.RFR2Score,\n",
    "    mode = 'markers+lines',\n",
    "    marker=dict(\n",
    "        size=df_xg.maxDepth*5,\n",
    "        color = df_xg.learningRate\n",
    "    )\n",
    ")\n",
    "\n",
    "data = [trace0]\n",
    "\n",
    "layout= go.Layout(\n",
    "    legend=dict(\n",
    "        traceorder='normal',\n",
    "        font=dict(\n",
    "            size=12,\n",
    "            color='#000'\n",
    "        )\n",
    "    ),\n",
    "    title= 'Performance of XGBoost',\n",
    "    xaxis= dict(\n",
    "        title= 'Number of runs'\n",
    "    ),\n",
    "    yaxis=dict(\n",
    "        title= 'R2-Score'\n",
    "    )\n",
    ")  \n",
    "\n",
    "fig= go.Figure(data=data, layout=layout)\n",
    "py.iplot(fig)"
   ]
  },
  {
   "cell_type": "code",
   "execution_count": null,
   "metadata": {
    "collapsed": true
   },
   "outputs": [],
   "source": []
  },
  {
   "cell_type": "code",
   "execution_count": null,
   "metadata": {
    "collapsed": true
   },
   "outputs": [],
   "source": []
  },
  {
   "cell_type": "code",
   "execution_count": null,
   "metadata": {
    "collapsed": true
   },
   "outputs": [],
   "source": []
  },
  {
   "cell_type": "code",
   "execution_count": null,
   "metadata": {
    "collapsed": true
   },
   "outputs": [],
   "source": []
  },
  {
   "cell_type": "code",
   "execution_count": null,
   "metadata": {
    "collapsed": true
   },
   "outputs": [],
   "source": []
  },
  {
   "cell_type": "code",
   "execution_count": null,
   "metadata": {
    "collapsed": true
   },
   "outputs": [],
   "source": []
  },
  {
   "cell_type": "code",
   "execution_count": null,
   "metadata": {
    "collapsed": true
   },
   "outputs": [],
   "source": []
  },
  {
   "cell_type": "code",
   "execution_count": null,
   "metadata": {
    "collapsed": true
   },
   "outputs": [],
   "source": []
  },
  {
   "cell_type": "code",
   "execution_count": null,
   "metadata": {
    "collapsed": true
   },
   "outputs": [],
   "source": []
  },
  {
   "cell_type": "code",
   "execution_count": null,
   "metadata": {
    "collapsed": true
   },
   "outputs": [],
   "source": []
  },
  {
   "cell_type": "code",
   "execution_count": null,
   "metadata": {
    "collapsed": true
   },
   "outputs": [],
   "source": []
  },
  {
   "cell_type": "code",
   "execution_count": null,
   "metadata": {
    "collapsed": true
   },
   "outputs": [],
   "source": []
  },
  {
   "cell_type": "code",
   "execution_count": null,
   "metadata": {
    "collapsed": true
   },
   "outputs": [],
   "source": []
  },
  {
   "cell_type": "code",
   "execution_count": null,
   "metadata": {
    "collapsed": true
   },
   "outputs": [],
   "source": []
  },
  {
   "cell_type": "code",
   "execution_count": null,
   "metadata": {
    "collapsed": true
   },
   "outputs": [],
   "source": []
  },
  {
   "cell_type": "code",
   "execution_count": null,
   "metadata": {
    "collapsed": true
   },
   "outputs": [],
   "source": []
  }
 ],
 "metadata": {
  "kernelspec": {
   "display_name": "Python 3",
   "language": "python",
   "name": "python3"
  },
  "language_info": {
   "codemirror_mode": {
    "name": "ipython",
    "version": 3
   },
   "file_extension": ".py",
   "mimetype": "text/x-python",
   "name": "python",
   "nbconvert_exporter": "python",
   "pygments_lexer": "ipython3",
   "version": "3.6.8"
  }
 },
 "nbformat": 4,
 "nbformat_minor": 2
}
